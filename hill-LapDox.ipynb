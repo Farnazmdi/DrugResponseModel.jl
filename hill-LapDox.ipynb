{
 "cells": [
  {
   "cell_type": "code",
   "execution_count": null,
   "metadata": {},
   "outputs": [],
   "source": [
    "using DrugResponseModel\n",
    "\n",
    "# import G1, G2, and population data\n",
    "conc_, pop_l, g2_l, g1_l, g2_0_l, g1_0_l = setup_data(\"lapatinib\");\n",
    "conc, pop_g, g2_g, g1_g, g2_0_g, g1_0_g = setup_data(\"doxorubicin\");\n",
    "conc_l = append!([0.1], conc_[2:end]);\n",
    "conc_g = append!([0.1], conc[2:end]);"
   ]
  },
  {
   "cell_type": "code",
   "execution_count": null,
   "metadata": {},
   "outputs": [],
   "source": [
    "# Lapatinib\n",
    "ec50lowL = 50.0\n",
    "ec50highL = 500.0\n",
    "ec50guessL = 100.0\n",
    "guessL = [ec50guessL, 1.0, 0.00682578, 0.00958013, 0.00503788, 0.0933964, 15.0, 15.0, 20.0, 20.94827, ec50guessL, 0.00294624, ec50guessL, 0.0422821]\n",
    "\n",
    "# doxorubicin\n",
    "ec50lowg = 20.0\n",
    "ec50highg = 500.0\n",
    "ec50guessg = 80.0\n",
    "guessg = [ec50guessg, 1.0, 0.00682578, 0.00958013, 0.00503788, 0.0933964, 20.0, 20.0, 15.0, 15.94827, ec50guessg, 0.00294624, ec50guessg, 0.0422821]\n",
    "\n",
    "# max num of steps\n",
    "num_steps=10000;"
   ]
  },
  {
   "cell_type": "code",
   "execution_count": null,
   "metadata": {},
   "outputs": [],
   "source": [
    "# best_fitL, paramsL = optimize_hill(guessL, conc_l, g1_l, g2_l, g1_0_l, g2_0_l, num_steps, ec50lowL, ec50highL)\n",
    "best_fitG, paramsG = optimize_hill(guessg, conc_g, g1_g, g2_g, g1_0_g, g2_0_g, num_steps, ec50lowg, ec50highg)\n"
   ]
  },
  {
   "cell_type": "code",
   "execution_count": null,
   "metadata": {},
   "outputs": [],
   "source": [
    "# parsL=getDDEparams(paramsL, conc_l)\n",
    "# parsG=getDDEparams(paramsG, conc_g)\n",
    "# using CSV, DataFrames\n",
    "# CSV.write(\"parsD.csv\",  DataFrame(parsG), writeheader=false)\n",
    "parsD = CSV.read(\"parsD.csv\", header=false)\n",
    "parsL = CSV.read(\"parsL.csv\", header=false)\n",
    "parsG = convert(Matrix, parsD)\n",
    "parsL = convert(Matrix, parsL);"
   ]
  },
  {
   "cell_type": "code",
   "execution_count": null,
   "metadata": {},
   "outputs": [],
   "source": [
    "# plot doxorubicin\n",
    "plot_all(parsG, pop_g, g2_g, g1_g, g2_0_g, g1_0_g);\n",
    "# savefig(\"dox.png\")"
   ]
  },
  {
   "cell_type": "code",
   "execution_count": null,
   "metadata": {},
   "outputs": [],
   "source": [
    "# plot hill for doxorubicin\n",
    "plot_parameters(conc_g, parsG);"
   ]
  },
  {
   "cell_type": "code",
   "execution_count": null,
   "metadata": {},
   "outputs": [],
   "source": [
    "using Plots; pyplot();\n",
    "function plot3D(parsL, parsG, j::Int, title::String)\n",
    "\n",
    "    param1 = ParamForBliss(parsL)\n",
    "    param2 = ParamForBliss(parsG)\n",
    "    combin = BlissCombination(parsL, parsG)\n",
    "\n",
    "    plot(param1[j,:],param2[j,:],combin[:,:,j],st=:surface,camera=(-40,20), xlabel=\"lapatinib\", ylabel=\"doxorubicin\", zlabel=\"combination\", title=title)\n",
    "    plot!(size = (800, 600), dpi=150)\n",
    "end\n",
    "param1 = ParamForBliss(parsL)\n",
    "param2 = ParamForBliss(parsG)\n",
    "combin = BlissCombination(parsL, parsG);\n"
   ]
  },
  {
   "cell_type": "code",
   "execution_count": null,
   "metadata": {},
   "outputs": [],
   "source": [
    "plot3D(parsL, parsG, 1, \"doxorubicin-lapatinib, alpha\");\n",
    "# savefig(\"doxlapalpha.png\")"
   ]
  },
  {
   "cell_type": "code",
   "execution_count": null,
   "metadata": {},
   "outputs": [],
   "source": [
    "plot3D(parsL, parsG, 2, \"doxorubicin-lapatinib, beta\");\n",
    "# savefig(\"doxlapbeta.png\")"
   ]
  },
  {
   "cell_type": "code",
   "execution_count": null,
   "metadata": {},
   "outputs": [],
   "source": [
    "plot3D(parsL, parsG, 3, \"doxorubicin-lapatinib, gamma\");\n",
    "# savefig(\"doxlapgamma.png\")"
   ]
  },
  {
   "cell_type": "code",
   "execution_count": null,
   "metadata": {},
   "outputs": [],
   "source": [
    "ddeparam = DDEcombinationParam(combin, parsL, parsG);"
   ]
  },
  {
   "cell_type": "code",
   "execution_count": null,
   "metadata": {},
   "outputs": [],
   "source": [
    "# pyplot();\n",
    "using Measures\n",
    "\n",
    "function plotUnitCombin(params::Array, i::Int, title::String, bool::Any, g2::Matrix, g1::Matrix, g2_0::Array, g1_0::Array, concL, ConcGem)\n",
    "    \"\"\" Given estimated parameters for each trial, \n",
    "    solve the DDE model plot the predicted curve \n",
    "    for # of cells in G1, G2, or total, \n",
    "    along with their corresponding real data,\n",
    "    for a longer time which is 2 times of the \n",
    "    original time (~195 hours)\n",
    "    \"\"\"\n",
    "    n_times = range(0.0; stop = 200.0, length = 400)\n",
    "    alg, n_prob, _ = ddesolve(collect(n_times), g1, g2, g1_0, g2_0, params, i)\n",
    "\n",
    "    solution = solve(n_prob, alg; constrained=true)\n",
    "\n",
    "    plot(n_times, solution(n_times, idxs=1).u, label = \"G1\", xlabel = \"time [hours]\", ylabel = \"number of cells\", lw=2.0, alpha = 0.6, color =:green)\n",
    "    plot!(n_times, solution(n_times, idxs=2).u, label = \"G2\", legend=bool, legendfontsize=7, fg_legend = :transparent, lw=2.0, alpha = 0.6, color=:sienna)\n",
    "    plot!(n_times, (solution(n_times, idxs=2).u + solution(n_times, idxs=1).u), label = \"total\", dpi = 250, lw=2.0, alpha = 0.6, color=:hotpink, margin = 20mm)\n",
    "    plot!(annotation=(100.5,125.0, text(\"$concL nM lapat. & $ConcGem nM Dox.\", 10)))\n",
    "end\n",
    "\n",
    "\n",
    "function plot4combin(ddeparam, g2_l::Matrix, g1_l::Matrix, g2_0_l::Array, g1_0_l::Array, i::Int, conc_l ,conc_g)\n",
    "    \"\"\" here we plot 8 combinations of lapatinib i and all the doxorubicin \"\"\" \n",
    "    concLap = conc_l[i]\n",
    "    p1 = plotUnitCombin(ddeparam[i,1,:], 1, \"\", true, g2_l, g1_l, g2_0_l, g1_0_l, concLap, conc_g[1])\n",
    "    p2 = plotUnitCombin(ddeparam[i,2,:], 1, \"\", false, g2_l, g1_l, g2_0_l, g1_0_l, concLap, conc_g[2])\n",
    "    p3 = plotUnitCombin(ddeparam[i,3,:], 1, \"\", false, g2_l, g1_l, g2_0_l, g1_0_l, concLap, conc_g[3])\n",
    "    p4 = plotUnitCombin(ddeparam[i,4,:], 1, \"\", false, g2_l, g1_l, g2_0_l, g1_0_l, concLap, conc_g[4])\n",
    "    p5 = plotUnitCombin(ddeparam[i,5,:], 1, \"\", false, g2_l, g1_l, g2_0_l, g1_0_l, concLap, conc_g[5])\n",
    "    p6 = plotUnitCombin(ddeparam[i,6,:], 1, \"\", false, g2_l, g1_l, g2_0_l, g1_0_l, concLap, conc_g[6])\n",
    "    p7 = plotUnitCombin(ddeparam[i,7,:], 1, \"\", false, g2_l, g1_l, g2_0_l, g1_0_l, concLap, conc_g[7])\n",
    "    p8 = plotUnitCombin(ddeparam[i,8,:], 1, \"\", false, g2_l, g1_l, g2_0_l, g1_0_l, concLap, conc_g[8])\n",
    "    plot(p1, p2, p3, p4, p5, p6, p7, p8, layout=(2,4))\n",
    "    plot!(size = (1600, 600), dpi = 250)\n",
    "    ylims!((0.0, 120.0))\n",
    "end"
   ]
  },
  {
   "cell_type": "code",
   "execution_count": null,
   "metadata": {},
   "outputs": [],
   "source": [
    "plot4combin(ddeparam, g2_l, g1_l, g2_0_l, g1_0_l, 1, conc_l,conc_g)"
   ]
  },
  {
   "cell_type": "code",
   "execution_count": null,
   "metadata": {},
   "outputs": [],
   "source": [
    "plot4combin(ddeparam, g2_l, g1_l, g2_0_l, g1_0_l, 2, conc_l,conc_g)"
   ]
  },
  {
   "cell_type": "code",
   "execution_count": null,
   "metadata": {},
   "outputs": [],
   "source": [
    "plot4combin(ddeparam, g2_l, g1_l, g2_0_l, g1_0_l, 3, conc_l,conc_g)"
   ]
  },
  {
   "cell_type": "code",
   "execution_count": null,
   "metadata": {},
   "outputs": [],
   "source": [
    "plot4combin(ddeparam, g2_l, g1_l, g2_0_l, g1_0_l, 4, conc_l,conc_g)"
   ]
  },
  {
   "cell_type": "code",
   "execution_count": null,
   "metadata": {},
   "outputs": [],
   "source": [
    "plot4combin(ddeparam, g2_l, g1_l, g2_0_l, g1_0_l, 5, conc_l,conc_g)"
   ]
  },
  {
   "cell_type": "code",
   "execution_count": null,
   "metadata": {},
   "outputs": [],
   "source": [
    "plot4combin(ddeparam, g2_l, g1_l, g2_0_l, g1_0_l, 6, conc_l,conc_g)"
   ]
  },
  {
   "cell_type": "code",
   "execution_count": null,
   "metadata": {},
   "outputs": [],
   "source": [
    "plot4combin(ddeparam, g2_l, g1_l, g2_0_l, g1_0_l, 7, conc_l,conc_g)"
   ]
  },
  {
   "cell_type": "code",
   "execution_count": null,
   "metadata": {},
   "outputs": [],
   "source": [
    "plot4combin(ddeparam, g2_l, g1_l, g2_0_l, g1_0_l, 8, conc_l,conc_g)"
   ]
  }
 ],
 "metadata": {
  "kernelspec": {
   "display_name": "Julia 1.3.0",
   "language": "julia",
   "name": "julia-1.3"
  },
  "language_info": {
   "file_extension": ".jl",
   "mimetype": "application/julia",
   "name": "julia",
   "version": "1.3.0"
  }
 },
 "nbformat": 4,
 "nbformat_minor": 4
}
