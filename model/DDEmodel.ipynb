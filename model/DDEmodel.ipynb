{
 "cells": [
  {
   "cell_type": "markdown",
   "metadata": {},
   "source": [
    "### Import data"
   ]
  },
  {
   "cell_type": "code",
   "execution_count": 1,
   "metadata": {},
   "outputs": [
    {
     "data": {
      "text/plain": [
       "7×8 Array{Float64,2}:\n",
       " 0.04728    0.03849   0.03791   0.02698   …   0.0207463   0.00959   0.0069  \n",
       " 0.02655    0.02973   0.03054   0.026502      0.03743     0.02566   0.02488 \n",
       " 0.45       0.62571   0.53348  20.2428       21.4483     20.9196   33.7132  \n",
       " 2.0       15.1207   15.9698   21.3481       20.7143     18.9652   20.5472  \n",
       " 3.1434     9.84743  11.4502   10.2881        8.15781     8.06589   5.2193  \n",
       " 0.00281    0.00174   0.00064   0.0001    …   0.00246     0.00227   0.003886\n",
       " 0.000387   0.00025   0.001     0.0001        0.003692    0.01039   0.0101  "
      ]
     },
     "execution_count": 1,
     "metadata": {},
     "output_type": "execute_result"
    }
   ],
   "source": [
    "include(\"DDEmodel.jl\")\n",
    "include(\"plot.jl\")\n",
    "\n",
    "# import data from the path\n",
    "# pop: population data\n",
    "# g1, g2: g1 and g2 data\n",
    "# initial: initial number of cells in g1 and in g2 at time 0\n",
    "pop, g2, g1, initial = get_data(\"..//data//lap.csv\", \"..//data//lap_pop.csv\");\n",
    "\n",
    "# This is to load the estimated parameters to be used as initial guess\n",
    "param_lap_dde = CSV.read(\".//figures//Lapatinib//dde//params_lap_DDE.csv\")\n",
    "lap = convert(Matrix, param_lap_dde[1:7,2:end]) # initial guesses for the parameters\n"
   ]
  },
  {
   "cell_type": "code",
   "execution_count": null,
   "metadata": {},
   "outputs": [],
   "source": [
    "function DDEmodel(du, u, h, p, t)\n",
    "    du[1] = -p[1]*(h(p, t-p[3])[1]) + 2*p[2]*(h(p, t-p[4])[2]) - p[6]*u[1]\n",
    "    du[2] = p[1]*(h(p, t-p[3])[1]) - p[2]*(h(p, t-p[4])[2]) - p[7]*u[2]\n",
    "end\n",
    "\n",
    "function DDEsolve(pp::Array, i::Int, g1_0::Array, g2_0::Array)\n",
    "    lags = [pp[3], pp[4]]\n",
    "    t = LinRange(0.0, 95.5, 192)\n",
    "    h(pp, t) = pp[5]*ones(2)\n",
    "    tspan = (0.0, 95.5)\n",
    "    u0 = initial_val[i]\n",
    "    prob = DDEProblem(DDEmodel, u0, h, tspan, pp; constant_lags = lags)\n",
    "    solve(prob, MethodOfSteps(Tsit5()))\n",
    "end\n",
    "\n",
    "function resid(pp, i, g1, g2)\n",
    "    t = LinRange(0.0, 95.5, 192)\n",
    "    res = zeros(2, 192)\n",
    "    sol = DDEsolve(pp, i)\n",
    "    res[1, :] = sol(t, idxs=1).u - g1[:, i]\n",
    "    res[2, :] = sol(t, idxs=2).u - g2[:, i]\n",
    "    return res\n",
    "end\n",
    "\n",
    "function optimIt(initial_guess, lower_bound, upper_bound, i)\n",
    "    results_dde = optimize(resid, initial_guess, LevenbergMarquardt(), lower = lower_bound, upper = upper_bound)\n",
    "    return results_dde.minimizer\n",
    "end"
   ]
  },
  {
   "cell_type": "code",
   "execution_count": 2,
   "metadata": {},
   "outputs": [
    {
     "ename": "MethodError",
     "evalue": "MethodError: no method matching resid(::Array{Float64,1})\nClosest candidates are:\n  resid(::Any, !Matched::Any, !Matched::Any, !Matched::Any) at /home/farnazm/DDE/one_state_model/model/DDEmodel.jl:63",
     "output_type": "error",
     "traceback": [
      "MethodError: no method matching resid(::Array{Float64,1})\nClosest candidates are:\n  resid(::Any, !Matched::Any, !Matched::Any, !Matched::Any) at /home/farnazm/DDE/one_state_model/model/DDEmodel.jl:63",
      "",
      "Stacktrace:",
      " [1] #optimize#8(::Symbol, ::Base.Iterators.Pairs{Symbol,Array{Float64,1},Tuple{Symbol,Symbol},NamedTuple{(:lower, :upper),Tuple{Array{Float64,1},Array{Float64,1}}}}, ::Function, ::typeof(resid), ::Array{Float64,1}, ::LevenbergMarquardt{Nothing}) at /home/farnazm/.julia/packages/LeastSquaresOptim/Wvhro/src/types.jl:141",
      " [2] (::getfield(Optim, Symbol(\"#kw##optimize\")))(::NamedTuple{(:lower, :upper),Tuple{Array{Float64,1},Array{Float64,1}}}, ::typeof(optimize), ::Function, ::Array{Float64,1}, ::LevenbergMarquardt{Nothing}) at ./none:0",
      " [3] optimIt(::Array{Float64,1}, ::Array{Float64,1}, ::Array{Float64,1}, ::Int64) at /home/farnazm/DDE/one_state_model/model/DDEmodel.jl:72",
      " [4] top-level scope at In[2]:8"
     ]
    }
   ],
   "source": [
    "# i is the number of the column we are using from the data (# of trial)\n",
    "\n",
    "i = 3\n",
    "\n",
    "# initial guess\n",
    "p  = [0.0557736, 0.0311629, 1.00062, 5.00084, 17.3839, 0.005907, 0.00194876]\n",
    "\n",
    "# setting lowest delay for tau1 to be half an hour and for tau2 to be 3 hours.\n",
    "low = [0.015, 0.003, 0.5, 3.0, 7.0, 0.0001, 0.0001]\n",
    "upp = [0.075, 0.075, 30.0, 30.0, 100.0, 0.05, 0.05]\n",
    "\n",
    "params = optimIt(p, low, upp, i)\n",
    "\n",
    "plotIt(params)"
   ]
  },
  {
   "cell_type": "markdown",
   "metadata": {},
   "source": [
    "### To plot parameters against drug concentrations"
   ]
  },
  {
   "cell_type": "code",
   "execution_count": null,
   "metadata": {},
   "outputs": [],
   "source": [
    "using Plots, CSV, Optim, LsqFit;\n",
    "\n",
    "# Reading the file containing params\n",
    "param_lap_dde = CSV.read(\".//figures//Lapatinib//dde//params_lap_DDE.csv\")\n",
    "param_gem_dde = CSV.read(\".//figures//Gem//dde//params_gem_DDE.csv\")\n",
    "param_dox_dde = CSV.read(\".//figures//Dox//dde//params_dox_DDE.csv\")\n",
    "param_taxol1_dde = CSV.read(\".//figures//taxol//dde//params_taxol1_DDE.csv\")\n",
    "param_tax2_dde = CSV.read(\".//figures//taxol2//dde//params_tax2_DDE.csv\")\n",
    "\n",
    "# Convert the DataFrame to Matrix for plotting\n",
    "lap = convert(Matrix, param_lap_dde[:,2:end])\n",
    "gem = convert(Matrix, param_gem_dde[:,2:end])\n",
    "dox = convert(Matrix, param_dox_dde[:,2:end])\n",
    "tax = convert(Matrix, param_taxol1_dde[:,2:end])\n",
    "tax2 = convert(Matrix, param_tax2_dde[:, 2:end])\n",
    "\n",
    "@. dose_response(x, p) =  p[1] + ((p[2] - p[1]) / (1 + 10^((x - p[3]))))\n",
    "\"\"\" The original formula:\n",
    "y = bottom + [(top - bottom) / ( 1 + 10^(x - log EC50) )]\n",
    "note that bottom is up, top is down! Notice how to choose EC50 based on drug concentrations\n",
    "\"\"\"\n",
    "function HillFit(drug, param_Dname, initial_guess)\n",
    "    xdata = drug[8, :]\n",
    "    ydata = drug[1, :]\n",
    "    initial_p = initial_guess\n",
    "\n",
    "    # fit data\n",
    "    fit = curve_fit(dose_response, xdata, ydata, initial_p)\n",
    "    par = fit.param\n",
    "    print(par)\n",
    "    # par = [1.01, 1.21, -0.03, -100.0]\n",
    "\n",
    "    new_xdata = LinRange(minimum(xdata), maximum(xdata), 100)\n",
    "    new_ydata = dose_response(new_xdata, par)\n",
    "\n",
    "    plot(new_xdata, new_ydata, title = param_Dname, label = \"predicted\", linewidth=3)\n",
    "    scatter!(xdata, ydata, label = \"original \")\n",
    "end\n",
    "\n",
    "initial_guess = [0.01, 0.35, 40, 0.05]\n",
    "p_d = \"Alpha Lapatinib\"\n",
    "# HillFit(gem, p_d, initial_guess)\n",
    "HillFit(lap, p_d, initial_guess)"
   ]
  },
  {
   "cell_type": "code",
   "execution_count": null,
   "metadata": {},
   "outputs": [],
   "source": [
    "@. dose_response(x, p) =  p[1] + ((p[2] - p[1]) / (1 + 10^((x - p[3]) * p[4])))\n",
    "x = LinRange(0.0, 500, 100)\n",
    "init = [0.01, 0.05, 40, 0.05]\n",
    "y = dose_response(x, init)\n",
    "plot(x, y)\n",
    "scatter!(lap[8, :], lap[1, :], label = \"original\")"
   ]
  },
  {
   "cell_type": "code",
   "execution_count": null,
   "metadata": {},
   "outputs": [],
   "source": [
    "function plot_param_conc(lap, gem, dox, tax, i, param)\n",
    "    \"\"\" This function to plot parameter vs. concentraition.\n",
    "    Arguments:\n",
    "    ----------\n",
    "    lap, gem, dox, tax: DataFrame containing parameters of treating AU565 human breast cancer cells with Lapatinib, Gemcitabine, Doxorubicin, and   Paclitaxel1, respectively.\n",
    "    i {int.}: If it is for DDE: A number between 1 and 7, which points to the parameters: [alpha, beta, tau1, tau2, history, gamma1, gamma2]\n",
    "              If it is for ODE: A number between 1 and 4, which points to the parameters: [alpha, beta, gamma1, gamma2]\n",
    "    param {str.}: a string used for the title of plots, to show which parameter we are plotting.\n",
    "    Returns:\n",
    "    --------\n",
    "    Returns a 2x2 plot for four drugs. \n",
    "    \n",
    "    \"\"\"\n",
    "    p1 = plot(gem[8, :], gem[i, :], label = \"Gemcitabine\", title = param, xlabel = \"drug conc. [nM]\", ylabel = \"param\", yticks = 0.0:round(maximum(gem[i, :])/5, digits = 2):maximum(gem[i, :]))\n",
    "    p2 = plot(lap[8, :], lap[i, :], label = \"Lapatinib\", xlabel = \"drug conc. [nM]\", ylabel = \"param\", yticks = 0.0:round(maximum(lap[i, :])/5, digits = 2):maximum(lap[i, :]))\n",
    "    p3 = plot(dox[8, :], dox[i, :], label = \"Doxorubicin\", xlabel = \"drug conc. [nM]\", ylabel = \"param\", yticks = 0.0:round(maximum(dox[i, :])/5, digits =2):maximum(dox[i, :]))\n",
    "    p4 = plot(tax[8, :], tax[i, :], label = \"Paclitaxel\", xlabel = \"drug conc. [nM]\", ylabel = \"param\", yticks = 0.0:round(maximum(tax[i, :])/5, digits=2):maximum(tax[i, :]))\n",
    "    plot(p1, p2, p3, p4, figsize = (18, 8), dpi = 170)\n",
    "end\n",
    "\n",
    "plot_param_conc(lap, gem, dox, tax2, 2 , \"beta\")\n",
    "# savefig()"
   ]
  }
 ],
 "metadata": {
  "kernelspec": {
   "display_name": "Julia 1.1.1",
   "language": "julia",
   "name": "julia-1.1"
  },
  "language_info": {
   "file_extension": ".jl",
   "mimetype": "application/julia",
   "name": "julia",
   "version": "1.1.1"
  }
 },
 "nbformat": 4,
 "nbformat_minor": 4
}
