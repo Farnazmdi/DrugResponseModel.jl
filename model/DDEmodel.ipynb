{
 "cells": [
  {
   "cell_type": "markdown",
   "metadata": {},
   "source": [
    "### Using Dogleg() for optimization"
   ]
  },
  {
   "cell_type": "code",
   "execution_count": null,
   "metadata": {},
   "outputs": [],
   "source": [
    "import CSV\n",
    "using LeastSquaresOptim, DifferentialEquations, DelayDiffEq, DiffEqBase, Optim\n",
    "data = CSV.read(\"taxol1.csv\")\n",
    "total = CSV.read(\"taxol1_pop.csv\")\n",
    "\n",
    "total_old = total[:,3]\n",
    "G2_old = data[:,3]\n",
    "\n",
    "estim_init = [1.0, 0.7] # [init_g1, init_g2]\n",
    "# rescaling the experimental data\n",
    "total_new = (estim_init[1] + estim_init[2]) * total_old\n",
    "G2_new = 0.01*total_new.*G2_old\n",
    "G1_new = total_new - G2_new\n",
    "\n",
    "# This model doesn't assume delay for dying\n",
    "function G1_G2(du, u, h, p, t)\n",
    "    du[1] = -p[1]*(h(p, t-p[5])[1]) + 2*p[2]*(h(p, t-p[6])[2]) - p[3]*u[1]\n",
    "    du[2] = p[1]*(h(p, t-p[5])[1]) - p[2]*(h(p, t-p[6])[2]) - p[4]*u[2] \n",
    "end\n",
    "\n",
    "function solution(pp)\n",
    "    lags = [pp[5], pp[6]]\n",
    "    h(p, t) = p[9]*ones(2)\n",
    "    t = LinRange(0.0, 95.5, 192)\n",
    "    \n",
    "    tspan = (0.0, 95.5)\n",
    "    u0 = [pp[7], pp[8]]\n",
    "    prob = DDEProblem(G1_G2, [pp[7], pp[8]], h, tspan, pp; constant_lags = lags)\n",
    "    solve(prob, MethodOfSteps(Tsit5()), lower = [0.0, 0.0])\n",
    "end\n",
    "\n",
    "function resid(pp)\n",
    "    t = LinRange(0.0, 95.5, 192)\n",
    "    res = zeros(2, length(t))\n",
    "    sol = solution(pp)\n",
    "    res[1,:] = sol(t, idxs=1) - G1_new\n",
    "    res[2,:] = sol(t, idxs=2) - G2_new\n",
    "    return res\n",
    "end\n",
    "\n",
    "p =[0.6007846901450706,0.3048539582338586,1.4065355422287749,0.7570231965413762,10.527938210733288,6.598877610124149,0.996591276073392,0.720611090806896,10.7637016702848363]\n",
    "lowwer = [0.0, 0.0, 0.0, 0.0, 0.0, 0.0, 0.0, 0.0, 0.0]\n",
    "# upp = [3.0, 3.0, 3.0, 3.0, 30.0, 30.0, 10.0, 10.0, 10.0]\n",
    "results = optimize(resid, p, Dogleg(), lower = lowwer, iterations = 10000)"
   ]
  },
  {
   "cell_type": "markdown",
   "metadata": {},
   "source": [
    "### Solve and Plot for Dogleg() optimization"
   ]
  },
  {
   "cell_type": "code",
   "execution_count": null,
   "metadata": {},
   "outputs": [],
   "source": [
    "params = results.minimizer\n",
    "total_n = (params[7] + params[8]) * total_old\n",
    "G2_n = 0.01*total_n.*G2_old\n",
    "G1_n = total_n - G2_n\n",
    "\n",
    "sol = solution(params)\n",
    "t = LinRange(0.0, 95.5, 192)\n",
    "\n",
    "using Plots; \n",
    "plot(t, sol(t, idxs=2).u, label = \"G2 est\", title = \"taxol1 Trial 3 Dogleg()\")\n",
    "plot!(t, G2_n, label = \"G2 new\")\n",
    "plot!(t, (sol(t, idxs=2).u + sol(t, idxs=1).u), label = \"total est\")\n",
    "plot!(t, total_n, label = \"total new\")\n",
    "plot!(t, sol(t, idxs=1).u, label = \"G1 est\")\n",
    "savefig(\"taxol3_Dogleg_.png\")"
   ]
  },
  {
   "cell_type": "markdown",
   "metadata": {},
   "source": [
    "### Optimization using Simulated Annealing"
   ]
  },
  {
   "cell_type": "code",
   "execution_count": null,
   "metadata": {},
   "outputs": [],
   "source": [
    "import CSV\n",
    "using LeastSquaresOptim, DifferentialEquations, DelayDiffEq\n",
    "using DiffEqBase, Optim, LinearAlgebra, Plots\n",
    "data = CSV.read(\"DOX.csv\")\n",
    "total = CSV.read(\"DOX_pop.csv\")\n",
    "\n",
    "total_old = total[48:end,5]\n",
    "G2_old = data[48:end,5]\n",
    "\n",
    "estim_init = [2.0, 1.0] # [init_g1, init_g2]\n",
    "# rescaling the experimental data\n",
    "total_new = (estim_init[1] + estim_init[2]) * total_old\n",
    "G2_new = 0.01*total_new.*G2_old\n",
    "G1_new = total_new - G2_new\n",
    " \n",
    "# This model doesn't assume delay for dying\n",
    "function G1_G2(du, u, h, p, t)\n",
    "    du[1] = -p[1]*(h(p, t-p[5])[1]) + 2*p[2]*(h(p, t-p[6])[2]) - p[3]*u[1]\n",
    "    du[2] = p[1]*(h(p, t-p[5])[1]) - p[2]*(h(p, t-p[6])[2]) - p[4]*u[2] \n",
    "end\n",
    "\n",
    "function solution(pp)\n",
    "    lags = [pp[5], pp[6]]\n",
    "    h(p, t) = pp[9]*ones(2)\n",
    "    t = LinRange(0.0, 71.5, 145)\n",
    "    tspan = (0.0, 71.5)\n",
    "    u0 = [pp[7], pp[8]]\n",
    "\n",
    "    prob = DDEProblem(G1_G2, [pp[7], pp[8]], h, tspan, pp; constant_lags = lags)\n",
    "    sol = solve(prob, MethodOfSteps(Tsit5()), lower = [0.0, 0.0], upper = [20.0, 20.0])\n",
    "end\n",
    "\n",
    "function resid(pp)\n",
    "    t = LinRange(0.0, 71.5, 145)\n",
    "    sol = solution(pp)\n",
    "    res = sol(t, idxs=2) - G2_new\n",
    "    \n",
    "    return norm(res)\n",
    "end\n",
    "\n",
    "p = [0.31,0.38,0.28,0.10,4.55,4.76,0.66,0.57,0.65]\n",
    "lowwer = [0.0, 0.0, 0.0, 0.0, 0.0, 0.0, 0.0, 0.0, 0.0]\n",
    "upperr = [1.0, 2.0, 2.0, 2.0, 15.0, 15.0, 2.0, 2.0, 2.0]\n",
    "\n",
    "res = Optim.optimize(resid, lowwer, upperr, p, SAMIN(rt = 0.8), Optim.Options(iterations = 10^6), show_trace = true)\n"
   ]
  },
  {
   "cell_type": "markdown",
   "metadata": {},
   "source": [
    "### Solve after SAMIN() optimization"
   ]
  },
  {
   "cell_type": "code",
   "execution_count": null,
   "metadata": {},
   "outputs": [],
   "source": [
    "par = res.minimizer\n",
    "total_nw = (par[7] + par[8]) * total_old\n",
    "G2_new = 0.01*total_nw.*G2_old\n",
    "G1_new = total_nw - G2_new\n",
    "final = solution(par)\n",
    "t = LinRange(0.0, 71.5, 145)\n",
    "\n",
    "using Plots;\n",
    "plot(t, final(t, idxs=2).u, label = \"G2 est\", title = \"Dox Trial 3 samin(rt=0.7)\")\n",
    "plot!(t, G2_new, label = \"G2\")\n",
    "plot!(t, (final(t, idxs=2).u + final(t, idxs=1).u), label = \"total est\")\n",
    "plot!(t, total_nw, label = \"total\")\n",
    "plot!(t, final(t, idxs=1).u, label = \"est G1\")\n",
    "savefig(\"DOX_one_5_samin_rt7_24cut.png\")"
   ]
  }
 ],
 "metadata": {
  "kernelspec": {
   "display_name": "Julia 1.1.1",
   "language": "julia",
   "name": "julia-1.1"
  },
  "language_info": {
   "file_extension": ".jl",
   "mimetype": "application/julia",
   "name": "julia",
   "version": "1.1.1"
  }
 },
 "nbformat": 4,
 "nbformat_minor": 2
}
