{
 "cells": [
  {
   "cell_type": "markdown",
   "metadata": {},
   "source": [
    "### Import data"
   ]
  },
  {
   "cell_type": "code",
   "execution_count": null,
   "metadata": {},
   "outputs": [],
   "source": [
    "import CSV\n",
    "using LeastSquaresOptim, DifferentialEquations, DelayDiffEq, DiffEqBase, Optim, Plots, Statistics, DataFrames\n",
    "\n",
    "# Import data\n",
    "data = CSV.read(\"..//data//gem.csv\")\n",
    "total = CSV.read(\"..//data//gem_pop.csv\")\n",
    "\n",
    "# delete the extra index column which strats at 0 \n",
    "deletecols!(data, :Column1)\n",
    "deletecols!(total, :Column1)\n",
    "\n",
    "# get the number of data points\n",
    "len = length(data[:,1])\n",
    "time = data[:,1]\n",
    "\n",
    "# just to make sure all have the same size\n",
    "total_old = total[1:192,3];\n",
    "G2_old = data[1:192,3];\n",
    "\n",
    "# rescaling the experimental data assuming we have 20 initial cells for each trial\n",
    "init_cells = 20.0\n",
    "total_new = init_cells * total_old\n",
    "G2_new = 0.01*total_new.*G2_old;\n",
    "G1_new = total_new .- G2_new;\n",
    "g2_0 = init_cells*(G2_old[1]/100.0)\n",
    "g1_0 = init_cells*(1- (G2_old[1]/100.0))\n",
    "\n",
    "plot(G1_new, label = \"G1\")\n",
    "plot!(G2_new, label = \"G2\")\n",
    "plot!(total_new, label = \"total\")\n",
    "print(g1_0, \"\\n\", g2_0)\n",
    "\n",
    "# defining csv to hold parameters\n",
    "# param_holder_tax2_dde = zeros(8,9);\n",
    "# param_holder_lap_ode = zeros(5,9);"
   ]
  },
  {
   "cell_type": "markdown",
   "metadata": {},
   "source": [
    "### To prepare data for Hill-function fit"
   ]
  },
  {
   "cell_type": "code",
   "execution_count": 22,
   "metadata": {},
   "outputs": [],
   "source": [
    "import CSV\n",
    "using LeastSquaresOptim, DifferentialEquations, DelayDiffEq, DiffEqBase, Optim, Plots, Statistics, DataFrames\n",
    "\n",
    "# Import data\n",
    "data = CSV.read(\"..//data//gem.csv\")\n",
    "total = CSV.read(\"..//data//gem_pop.csv\")\n",
    "\n",
    "# delete the extra index column which strats at 0\n",
    "deletecols!(data, 1:2)\n",
    "deletecols!(total, 1:2)\n",
    "gem = data[:, 1:8]\n",
    "gem_pop = total[:, 1:8]\n",
    "\n",
    "# rescaling the experimental data assuming we have 20 initial cells for each trial\n",
    "gem1 = zeros(size(gem, 1), 8)\n",
    "gem2 = zeros(size(gem, 1), 8)\n",
    "g1_0 = zeros(8)\n",
    "g2_0 = zeros(8)\n",
    "\n",
    "init_cells = 20.0\n",
    "\n",
    "for i in 1:8\n",
    "    gem_pop[:, i] = init_cells*gem_pop[:, i]\n",
    "    gem2[:, i] = 0.01*gem_pop[:, i] .* gem[:, i]\n",
    "    gem1[:, i] = gem_pop[:, i] .- gem2[:, i]\n",
    "    g2_0[i] = init_cells*(gem[1, i]/100.0)\n",
    "    g1_0[i] = init_cells*(1 - gem[1, i]/100.0)\n",
    "end"
   ]
  },
  {
   "cell_type": "code",
   "execution_count": 25,
   "metadata": {},
   "outputs": [
    {
     "data": {
      "text/plain": [
       "resid (generic function with 1 method)"
      ]
     },
     "execution_count": 25,
     "metadata": {},
     "output_type": "execute_result"
    }
   ],
   "source": [
    "# The following function is the hill function which takes in four parameters and drug concentration\n",
    "# x: drug concentration\n",
    "# p[1]: minimum of the parameter\n",
    "# p[2]: maximum of the parameter\n",
    "# p[3]: IC50\n",
    "# p[4]: the maximum slope or the hill slope\n",
    "@. DoseResp(x, p) = p[1] + ((p[2] - p[1]) ./ (1 .+ 10 .^((p[3] .- x) .* p[4])))\n",
    "\n",
    "function DDEmodel(du, u, h, p, t)\n",
    "    du[1] = -p[1]*(h(p, t-p[3])[1]) + 2*p[2]*(h(p, t-p[4])[2]) - p[6]*u[1]\n",
    "    du[2] = p[1]*(h(p, t-p[3])[1]) - p[2]*(h(p, t-p[4])[2]) - p[7]*u[2]\n",
    "end\n",
    "\n",
    "function DDEsolve(pp)\n",
    "    lags = [pp[3], pp[4]]\n",
    "    h(p, t) = pp[5]*ones(2)\n",
    "    t = LinRange(0.0, 95.5, 192)\n",
    "    tspan = (0.0, 95.5)\n",
    "    u0 = [g1_0, g2_0]\n",
    "    prob = DDEProblem(DDEmodel, u0, h, tspan, pp; constant_lags = lags)\n",
    "    solve(prob)\n",
    "end\n",
    "\n",
    "function resid(pp)\n",
    "    t = LinRange(0.0, 95.5, 192)\n",
    "    res = zeros(2, 192)\n",
    "    sol = DDEsolve(pp)\n",
    "    res[1, :] = sol(t, idxs=1).u - gem1\n",
    "    res[2, :] = sol(t, idxs=2).u - gem2\n",
    "    return res\n",
    "end"
   ]
  },
  {
   "cell_type": "markdown",
   "metadata": {},
   "source": [
    "### ODE solve"
   ]
  },
  {
   "cell_type": "code",
   "execution_count": null,
   "metadata": {},
   "outputs": [],
   "source": [
    "function ODEmodel(du, u, p, t)\n",
    "\n",
    "    du[1] = -p[1]*u[1] + 2*p[2]*u[2] - p[3]*u[1]\n",
    "    du[2] = p[1]*u[1] - p[2]*u[2] - p[4]*u[2]\n",
    "end\n",
    "\n",
    "function ODEsolve(par)\n",
    "    t = LinRange(0.0, 95.5, 192)\n",
    "    tspan = (0.0, 95.5)\n",
    "    u0 = [g1_0, g2_0]\n",
    "    prob = ODEProblem(ODEmodel, u0, tspan, par)\n",
    "    solve(prob, Tsit5())\n",
    "end\n",
    "\n",
    "function residuals(par)\n",
    "    t = LinRange(0.0, 95.5, 192)\n",
    "    res = zeros(2, 192)\n",
    "    sol = ODEsolve(par)\n",
    "    res[2, :] = sol(t, idxs = 1).u - G1_new\n",
    "    res[1, :] = sol(t, idxs = 2).u - G2_new\n",
    "    return res\n",
    "end\n",
    "\n",
    "p = [8.870525323648254,8.492087168644503,0.4344732303091874,7.678477905020965]\n",
    "t = LinRange(0.0, 95.5, 192)\n",
    "low = [0.0, 0.0, 0.0, 0.01]\n",
    "\n",
    "# result_ode = optimize(residuals, p, Dogleg(), lower = low)\n",
    "result_ode = optimize(residuals, p, LevenbergMarquardt(), lower = low)"
   ]
  },
  {
   "cell_type": "code",
   "execution_count": null,
   "metadata": {},
   "outputs": [],
   "source": [
    "t = LinRange(0.0, 95.5, 192)\n",
    "params = result_ode.minimizer\n",
    "\n",
    "# param_holder_lap_ode = CSV.read(\"params_lap_ODE.csv\")\n",
    "# param_holder_lap_ode[:, 7] = params\n",
    "# CSV.write(\"params_lap_ODE.csv\", DataFrame(param_holder_lap_ode))\n",
    "\n",
    "\n",
    "############## Plot for 05.5 hours  ##############\n",
    "# sol = DDEsolve(params)\n",
    "# plot(t, sol(t, idxs=2).u, label = \"G1 est\", legend =:topleft)\n",
    "# plot!(t, G1_new, label = \"G1\")\n",
    "# plot!(t, sol(t, idxs=1).u, title = \"DOX Trial 2 DDE\", label = \"G2 est\")\n",
    "# plot!(t, G2_new, label = \"G2\")\n",
    "# plot!(t, (sol(t, idxs=2).u + sol(t, idxs=1).u), label = \"total est\")\n",
    "# plot!(t, total_new, label = \"total\")\n",
    "# savefig(\"DOX_2_DDE.png\")\n",
    "\n",
    "\n",
    "############### Plot for a long time simulation  ###############\n",
    "t_new = LinRange(0.0, 195.5, 292)\n",
    "tspan_new = (0.0, 195.5)\n",
    "u0_new = [g1_0, g2_0]\n",
    "prob_new = ODEProblem(ODEmodel, u0_new, tspan_new, params)\n",
    "solution = solve(prob_new, Tsit5())\n",
    "\n",
    "plot(t_new, solution(t_new, idxs=1).u, label = \"G1 est\", dpi = 150, xlabel = \"time [hours]\", ylabel = \"# of cells\")\n",
    "plot!(t, G1_new, label = \"G1\", dpi = 150)\n",
    "plot!(t_new, solution(t_new, idxs=2).u, label = \"G2 est\", title = \"Lap. Trial 7 ODE\", legend=:topleft, dpi = 150)\n",
    "plot!(t, G2_new, label = \"G2\", dpi = 150)\n",
    "plot!(t_new, (solution(t_new, idxs=2).u + solution(t_new, idxs=1).u), label = \"total est\", dpi = 150)\n",
    "plot!(t, total_new, label = \"total\", dpi = 150)\n",
    "savefig(\"lap_7_ode_long.png\")"
   ]
  },
  {
   "cell_type": "code",
   "execution_count": null,
   "metadata": {},
   "outputs": [],
   "source": [
    "# param_holder_lap_ode[:, 1] = [\"alpha\", \"beta\", \"gamma1\", \"gamma2\"]\n",
    "# CSV.write(\"params_lap_ODE.csv\", DataFrame(param_holder_lap_ode))"
   ]
  },
  {
   "cell_type": "markdown",
   "metadata": {},
   "source": [
    "### Using Dogleg()/ LevenbergMarquardt() for optimization DDE"
   ]
  },
  {
   "cell_type": "code",
   "execution_count": null,
   "metadata": {},
   "outputs": [],
   "source": [
    "# This model doesn't assume delay for dying\n",
    "function DDEmodel(du, u, h, p, t)\n",
    "    du[1] = -p[1]*(h(p, t-p[3])[1]) + 2*p[2]*(h(p, t-p[4])[2]) - p[6]*u[1]\n",
    "    du[2] = p[1]*(h(p, t-p[3])[1]) - p[2]*(h(p, t-p[4])[2]) - p[7]*u[2]\n",
    "end\n",
    "\n",
    "function DDEsolve(pp)\n",
    "    lags = [pp[3], pp[4]]\n",
    "    h(p, t) = pp[5]*ones(2)\n",
    "    t = LinRange(0.0, 95.5, 192)\n",
    "\n",
    "    tspan = (0.0, 95.5)\n",
    "    u0 = [g1_0, g2_0]\n",
    "    prob = DDEProblem(DDEmodel, u0, h, tspan, pp; constant_lags = lags)\n",
    "    solve(prob)\n",
    "end\n",
    "\n",
    "function resid(pp)\n",
    "    t = LinRange(0.0, 95.5, 192)\n",
    "    res = zeros(2, 192)\n",
    "    sol = DDEsolve(pp)\n",
    "    res[1, :] = sol(t, idxs=1).u - G1_new\n",
    "    res[2, :] = sol(t, idxs=2).u - G2_new\n",
    "    return res\n",
    "end\n",
    "\n",
    "# We could just find the best guess for the first trial and then just substitude the previous estimated parameter \n",
    "# to find the next trial as our initial guess (mostl of the time works well!)\n",
    "p  = [0.0571958, 0.0326492, 0.7504399, 4.501804, 19.3794, 0.00560244, 0.00236748]\n",
    "\n",
    "# setting lowest delay for tau1 to be half an hour and for tau2 to be 3 hours.\n",
    "low = [0.0001, 0.0001, 0.5, 3.0, 1.0, 0.0001, 0.0001]\n",
    "upp = [0.5, 0.5, 30.0, 30.0, 200.0, 0.5, 0.5]\n",
    "# results_dde = optimize(resid, p, Dogleg(), lower = low)\n",
    "results_dde = optimize(resid, p, LevenbergMarquardt(), lower = low, upper = upp)"
   ]
  },
  {
   "cell_type": "markdown",
   "metadata": {},
   "source": [
    "### Solve and Plot for Dogleg() optimization"
   ]
  },
  {
   "cell_type": "code",
   "execution_count": null,
   "metadata": {},
   "outputs": [],
   "source": [
    "# param_gem_dde = zeros(8, 9)\n",
    "t = LinRange(0.0, 95.5, 192)\n",
    "params = results_dde.minimizer\n",
    "print(params)\n",
    "# param_gem_dde = params\n",
    "# CSV.write(\"param_gem_dde.csv\", DataFrame(param_gem_dde))\n",
    "\n",
    "#######  plot till 95.5 hours  ########\n",
    "# sol = DDEsolve(params)\n",
    "# plot(t, sol(t, idxs=2).u, label = \"G1 est\", legend =:topleft)\n",
    "# plot!(t, G1_new, label = \"G1\")\n",
    "# plot!(t, sol(t, idxs=1).u, title = \"DOX Trial 2 DDE\", label = \"G2 est\")\n",
    "# plot!(t, G2_new, label = \"G2\")\n",
    "# plot!(t, (sol(t, idxs=2).u + sol(t, idxs=1).u), label = \"total est\")\n",
    "# plot!(t, total_new, label = \"total\")\n",
    "# savefig(\"DOX_2_DDE.png\")\n",
    "\n",
    "####### Plot for a longer time  #########\n",
    "lags = [params[3], params[4]]\n",
    "t_new = LinRange(0.0, 195.5, 292)\n",
    "h(p, t_new) = params[5]*ones(2)\n",
    "tspan_new = (0.0, 195.5)\n",
    "u0_new = [g1_0, g2_0]\n",
    "prob_new = DDEProblem(DDEmodel, u0_new, h, tspan_new, params; constant_lags = lags)\n",
    "solution = solve(prob_new, MethodOfSteps(Tsit5()))\n",
    "\n",
    "plot(t_new, solution(t_new, idxs=1).u, label = \"G1 est\", dpi = 150, xlabel = \"time [hours]\", ylabel = \"# of cells\")\n",
    "plot!(t, G1_new, label = \"G1\", dpi = 150)\n",
    "plot!(t_new, solution(t_new, idxs=2).u, label = \"G2 est\", title = \"Gem. Trial 3 DDE\", legend=:topleft, dpi = 150)\n",
    "plot!(t, G2_new, label = \"G2\", dpi = 150)\n",
    "plot!(t_new, (solution(t_new, idxs=2).u + solution(t_new, idxs=1).u), label = \"total est\", dpi = 150)\n",
    "plot!(t, total_new, label = \"total\", dpi = 150)\n",
    "# savefig(\"gem_3_dde_long.png\")"
   ]
  },
  {
   "cell_type": "code",
   "execution_count": null,
   "metadata": {},
   "outputs": [],
   "source": [
    "# param_gem_dde = CSV.read(\"param_gem_dde.csv\")\n",
    "# param_gem_dde[:, 1] = [\"alpha\", \"beta\", \"tau1\", \"tau2\", \"history\", \"gamma1\", \"gamma2\", \"drug concentration\"]\n",
    "# CSV.write(\"param_gem_dde.csv\", DataFrame(param_gem_dde))"
   ]
  },
  {
   "cell_type": "markdown",
   "metadata": {},
   "source": [
    "### To plot parameters against drug concentrations"
   ]
  },
  {
   "cell_type": "code",
   "execution_count": null,
   "metadata": {},
   "outputs": [],
   "source": [
    "using Plots, CSV;\n",
    "\n",
    "# Reading the file containing params\n",
    "param_lap_dde = CSV.read(\".//figures//Lapatinib//dde//params_lap_DDE.csv\")\n",
    "param_gem_dde = CSV.read(\".//figures//Gem//dde//params_gem_DDE.csv\")\n",
    "param_dox_dde = CSV.read(\".//figures//Dox//dde//params_dox_DDE.csv\")\n",
    "param_taxol1_dde = CSV.read(\".//figures//taxol//dde//params_taxol1_DDE.csv\")\n",
    "param_tax2_dde = CSV.read(\".//figures//taxol2//dde//params_tax2_DDE.csv\")\n",
    "\n",
    "# Convert the DataFrame to Matrix for plotting\n",
    "lap = convert(Matrix, param_lap_dde[:,3:end])\n",
    "gem = convert(Matrix, param_gem_dde[:,3:end])\n",
    "dox = convert(Matrix, param_dox_dde[:,3:end])\n",
    "tax = convert(Matrix, param_taxol1_dde[:,3:end])\n",
    "tax2 = convert(Matrix, param_tax2_dde[:, 3:end])\n",
    "\n",
    "function plot_param_conc(lap, gem, dox, tax, i, param)\n",
    "    \"\"\" This function to plot parameter vs. concentraition.\n",
    "    Arguments:\n",
    "    ----------\n",
    "    lap, gem, dox, tax: DataFrame containing parameters of treating AU565 human breast cancer cells with Lapatinib, Gemcitabine, Doxorubicin, and   Paclitaxel1, respectively.\n",
    "    i {int.}: If it is for DDE: A number between 1 and 7, which points to the parameters: [alpha, beta, tau1, tau2, history, gamma1, gamma2]\n",
    "              If it is for ODE: A number between 1 and 4, which points to the parameters: [alpha, beta, gamma1, gamma2]\n",
    "    param {str.}: a string used for the title of plots, to show which parameter we are plotting.\n",
    "    Returns:\n",
    "    --------\n",
    "    Returns a 2x2 plot for four drugs. \n",
    "    \n",
    "    \"\"\"\n",
    "    p1 = plot(gem[8, :], gem[i, :], label = \"Gemcitabine\", title = param, xlabel = \"drug conc. [nM]\", ylabel = \"param\", yticks = 0.0:0.02:0.5)\n",
    "    p2 = plot(lap[8, :], lap[i, :], label = \"Lapatinib\", xlabel = \"drug conc. [nM]\", ylabel = \"param\", yticks = 0.0:0.05:0.5)\n",
    "    p3 = plot(dox[8, :], dox[i, :], label = \"Doxorubicin\", xlabel = \"drug conc. [nM]\", ylabel = \"param\", yticks = 0.0:0.05:0.5)\n",
    "    p4 = plot(tax[8, :], tax[i, :], label = \"Paclitaxel\", xlabel = \"drug conc. [nM]\", ylabel = \"param\", yticks = 0.0:0.1:1.0)\n",
    "    plot(p1, p2, p3, p4, figsize = (18, 8), dpi = 170)\n",
    "end\n",
    "\n",
    "plot_param_conc(lap, gem, dox, tax2, 1 , \"alpha\")\n",
    "# savefig()"
   ]
  }
 ],
 "metadata": {
  "kernelspec": {
   "display_name": "Julia 1.1.1",
   "language": "julia",
   "name": "julia-1.1"
  },
  "language_info": {
   "file_extension": ".jl",
   "mimetype": "application/julia",
   "name": "julia",
   "version": "1.1.1"
  }
 },
 "nbformat": 4,
 "nbformat_minor": 4
}
