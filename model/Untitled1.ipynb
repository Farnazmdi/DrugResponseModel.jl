{
 "cells": [
  {
   "cell_type": "markdown",
   "metadata": {},
   "source": [
    "## Estimating for both in G1 and G2"
   ]
  },
  {
   "cell_type": "code",
   "execution_count": 53,
   "metadata": {},
   "outputs": [
    {
     "data": {
      "text/plain": [
       "Results of Optimization Algorithm\n",
       " * Algorithm: Dogleg\n",
       " * Minimizer: [0.793348316870441,0.554965921835639,0.19289334183812723,0.13504058292828147,18.0449348143392,20.78587547638218,0.9663406214355198,1.3696938265155714,1.3009173331236847]\n",
       " * Sum of squares at Minimum: 1469.694431\n",
       " * Iterations: 56\n",
       " * Convergence: true\n",
       " * |x - x'| < 1.0e-08: true\n",
       " * |f(x) - f(x')| / |f(x)| < 1.0e-08: false\n",
       " * |g(x)| < 1.0e-08: false\n",
       " * Function Calls: 57\n",
       " * Gradient Calls: 19\n",
       " * Multiplication Calls: 113\n"
      ]
     },
     "execution_count": 53,
     "metadata": {},
     "output_type": "execute_result"
    }
   ],
   "source": [
    "import CSV\n",
    "data = CSV.read(\"C:\\\\Users\\\\farna\\\\Desktop\\\\one_state\\\\Gem.csv\")\n",
    "total = CSV.read(\"C:\\\\Users\\\\farna\\\\Desktop\\\\one_state\\\\Gem_pop.csv\")\n",
    "\n",
    "total_old = total[:,7]\n",
    "G2_old = data[:,7]\n",
    "\n",
    "estim_init = [4.25, 2.0] # [init_g1, init_g2]\n",
    "# rescaling the experimental data\n",
    "total_new = (estim_init[1] + estim_init[2]) * total_old\n",
    "G2_new = 0.01*total_new.*G2_old\n",
    "G1_new = total_new - G2_new\n",
    "\n",
    "using LeastSquaresOptim, DifferentialEquations, DelayDiffEq, DiffEqBase, Optim\n",
    "\n",
    "\n",
    "# This model doesn't assume delay for dying\n",
    "function G1_G2(du, u, h, p, t)\n",
    "    du[1] = -p[1]*(h(p, t-p[5])[1]) + 2*p[2]*(h(p, t-p[6])[2]) - p[3]*u[1]\n",
    "    du[2] = p[1]*(h(p, t-p[5])[1]) - p[2]*(h(p, t-p[6])[2]) - p[4]*u[2] \n",
    "end\n",
    "\n",
    "p = [1.0045, 0.42, 0.01, 0.01, 19.17196, 16.88276, 4.2931205, 1.96889172, 3.0]\n",
    "\n",
    "function solution(pp)\n",
    "    lags = [pp[5], pp[6]]\n",
    "    h(p, t) = pp[9]*ones(2)\n",
    "    t = LinRange(0.0, 95.5, 192)\n",
    "    \n",
    "    tspan = (0.0, 95.5)\n",
    "    u0 = [pp[7], pp[8]]\n",
    "    prob = DDEProblem(G1_G2, [pp[7], pp[8]], h, tspan, pp; constant_lags = lags)\n",
    "    solve(prob, MethodOfSteps(Tsit5()), lower = [0.0, 0.0], upper = [Inf, Inf])\n",
    "end\n",
    "\n",
    "function resid(pp)\n",
    "    res = zeros(2, length(t))\n",
    "    sol = solution(pp)\n",
    "    res[1,:] = sol(t, idxs=1).u - G1_new\n",
    "    res[2,:] = sol(t, idxs=2).u - G2_new\n",
    "    return res\n",
    "end\n",
    "\n",
    "lowwer = [0.0, 0.0, 0.0, 0.0, 0.0, 0.0, 0.0, 0.0, 0.0]\n",
    "results = optimize(resid, p, Dogleg(), lower = lowwer)\n"
   ]
  },
  {
   "cell_type": "code",
   "execution_count": 54,
   "metadata": {},
   "outputs": [],
   "source": [
    "function ReSolve(results)\n",
    "    params = results.minimizer\n",
    "    lags = [params[5], params[6]]\n",
    "    u0 = [params[7], params[8]]\n",
    "\n",
    "    tspan = (0.0, 95.5)\n",
    "    h(p, t) = params[9]*ones(2)\n",
    "    t = LinRange(0.0, 95.5, 192)\n",
    "    total_new = (params[7] + params[8]) * total_old\n",
    "    G2_new = 0.01*total_new.*G2_old\n",
    "    G1_new = total_new - G2_new\n",
    "\n",
    "    estim_prob = DDEProblem(G1_G2, u0, h, tspan, params; constant_lags = lags)\n",
    "    sol = solve(estim_prob, MethodOfSteps(Tsit5()), lower = [0.0, 0.0], upper = [Inf, Inf])\n",
    "end\n",
    "\n",
    "using Plots; \n",
    "\n",
    "sol = ReSolve(results)\n",
    "plot(t, sol(t, idxs=2).u, label = \"est G2\", title = \"Trial 7\")\n",
    "plot!(t, (sol(t, idxs=2).u + sol(t, idxs=1).u), label = \"est total\")\n",
    "plot!(t, sol(t, idxs=1).u, label = \"G1 est\")\n",
    "savefig(\"7.png\")"
   ]
  }
 ],
 "metadata": {
  "kernelspec": {
   "display_name": "Julia 1.1.1",
   "language": "julia",
   "name": "julia-1.1"
  },
  "language_info": {
   "file_extension": ".jl",
   "mimetype": "application/julia",
   "name": "julia",
   "version": "1.1.1"
  }
 },
 "nbformat": 4,
 "nbformat_minor": 2
}
