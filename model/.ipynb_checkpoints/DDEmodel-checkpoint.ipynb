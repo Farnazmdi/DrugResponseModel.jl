{
 "cells": [
  {
   "cell_type": "markdown",
   "metadata": {},
   "source": [
    "### ODE solver"
   ]
  },
  {
   "cell_type": "code",
   "execution_count": 14,
   "metadata": {},
   "outputs": [
    {
     "data": {
      "text/plain": [
       "(145,)"
      ]
     },
     "execution_count": 14,
     "metadata": {},
     "output_type": "execute_result"
    }
   ],
   "source": [
    "import CSV\n",
    "using LeastSquaresOptim, DifferentialEquations, DelayDiffEq, DiffEqBase, Optim, Plots, Statistics\n",
    "data = CSV.read(\".//data//DOX.csv\")\n",
    "total = CSV.read(\".//data//DOX_pop.csv\")\n",
    "\n",
    "total_old = total[48:end,7];\n",
    "G2_old = data[48:end,7];\n",
    "\n",
    "# simple moving average, might help with \n",
    "function sma(a::Array, n::Int)\n",
    "    vals = zeros(size(a,1) - (n-1), size(a,2))\n",
    "\n",
    "    for i in 1:size(a,1) - (n-1)\n",
    "        for j in 1:size(a,2)\n",
    "            vals[i,j] = mean(a[i:i+(n-1),j])\n",
    "        end\n",
    "    end\n",
    "\n",
    "    vals\n",
    "end\n",
    "\n",
    "\n",
    "estim_init = [3.0, 2.5]\n",
    "# rescaling the experimental data\n",
    "total_new = (estim_init[1] + estim_init[2]) * total_old\n",
    "G2_new = 0.01*total_new.*G2_old;\n",
    "G1_new = total_new - G2_new;\n",
    "\n",
    "# G2_new = sma(G2_nw, 10);\n",
    "# G1_new = sma(G1_nw, 10);\n",
    "# total_new = sma(total_nw, 10);\n",
    "size(G2_new)"
   ]
  },
  {
   "cell_type": "code",
   "execution_count": 21,
   "metadata": {},
   "outputs": [
    {
     "data": {
      "text/plain": [
       "Results of Optimization Algorithm\n",
       " * Algorithm: Dogleg\n",
       " * Minimizer: [20.976551397556385,5.668530661061567,0.0,5.710054560471193]\n",
       " * Sum of squares at Minimum: 513.088183\n",
       " * Iterations: 1000\n",
       " * Convergence: false\n",
       " * |x - x'| < 1.0e-08: false\n",
       " * |f(x) - f(x')| / |f(x)| < 1.0e-08: false\n",
       " * |g(x)| < 1.0e-08: false\n",
       " * Function Calls: 1001\n",
       " * Gradient Calls: 548\n",
       " * Multiplication Calls: 2644\n"
      ]
     },
     "execution_count": 21,
     "metadata": {},
     "output_type": "execute_result"
    }
   ],
   "source": [
    "function ODEmodel(du, u, p, t)\n",
    "    # p = [alpha, beta, gamma1, gamma2]\n",
    "    du[1] = -p[1]*u[1] + 2*p[2]*u[2] - p[3]*u[1]\n",
    "    du[2] = p[1]*u[1] - p[2]*u[2] - p[4]*u[2]\n",
    "end\n",
    "\n",
    "function ODEsolve(par)\n",
    "    t = LinRange(0.0, 95.5, 145)\n",
    "    tspan = (0.0, 95.5)\n",
    "    u0 = [3.0, 2.5]\n",
    "    prob = ODEProblem(ODEmodel, u0, tspan, par)\n",
    "    solve(prob, Tsit5())\n",
    "end\n",
    "\n",
    "function residuals(par)\n",
    "    t = LinRange(0.0, 95.5, 145)\n",
    "    #     res= ((sol(t, idxs=2).u).*100 ./(sol(t, idxs=1).u + sol(t, idxs=2).u)) - G2\n",
    "    res = zeros(2, length(t))\n",
    "    sol = ODEsolve(par)\n",
    "    res[1, :] = sol(t, idxs=1).u - G1_new\n",
    "    res[2, :] = sol(t, idxs=2).u - G2_new\n",
    "    return res\n",
    "end\n",
    "\n",
    "p = [1.1419653666434577,1.8303900783929324,1.7368765444573239,1.15886473880596672]\n",
    "t = LinRange(0.0, 95.5, 145)\n",
    "low = [0.0, 0.0, 0.0, 0.0]\n",
    "# high = [5.0, 5.0, 5.0, 5.0]\n",
    "\n",
    "result_ode = optimize(residuals, p, Dogleg(), lower = low)"
   ]
  },
  {
   "cell_type": "code",
   "execution_count": 19,
   "metadata": {},
   "outputs": [],
   "source": [
    "params = result_ode.minimizer\n",
    "# total_n = 5.0 * total_old\n",
    "# G2_n = 0.01*total_n.*G2_old\n",
    "# G1_n = total_n - G2_n\n",
    "\n",
    "sol = ODEsolve(params)\n",
    "t = LinRange(0.0, 95.5, 145)\n",
    "\n",
    "\n",
    "plot(t, sol(t, idxs=2).u, label = \"G2 est\", title = \"Dox Trial 7 ODE_24cut\", legend=:topright)\n",
    "plot!(t, G2_new, label = \"G2 new\")\n",
    "plot!(t, (sol(t, idxs=2).u + sol(t, idxs=1).u), label = \"total est\")\n",
    "plot!(t, total_new, label = \"total new\")\n",
    "savefig(\"dox_7_ode_24cut.png\")"
   ]
  },
  {
   "cell_type": "markdown",
   "metadata": {},
   "source": [
    "### Using Dogleg() for optimization DDE"
   ]
  },
  {
   "cell_type": "code",
   "execution_count": 32,
   "metadata": {},
   "outputs": [
    {
     "data": {
      "text/plain": [
       "Results of Optimization Algorithm\n",
       " * Algorithm: Dogleg\n",
       " * Minimizer: [15.028971395780278,24.561739712898987,6.320957515294865,2.9081343659136745,1.4872260538901045]\n",
       " * Sum of squares at Minimum: 212588553052470.281250\n",
       " * Iterations: 29\n",
       " * Convergence: true\n",
       " * |x - x'| < 1.0e-08: true\n",
       " * |f(x) - f(x')| / |f(x)| < 1.0e-08: false\n",
       " * |g(x)| < 1.0e-08: false\n",
       " * Function Calls: 30\n",
       " * Gradient Calls: 5\n",
       " * Multiplication Calls: 44\n"
      ]
     },
     "execution_count": 32,
     "metadata": {},
     "output_type": "execute_result"
    }
   ],
   "source": [
    "\n",
    "# This model doesn't assume delay for dying\n",
    "function DDEmodel(du, u, h, p, t)\n",
    "    du[1] = -21.0*(h(p, t-p[1])[1]) + 2*5.6*(h(p, t-p[2])[2]) - p[4]*u[1]\n",
    "    du[2] = 21.0*(h(p, t-p[1])[1]) - 5.6*(h(p, t-p[2])[2]) - p[5]*u[2]\n",
    "end\n",
    "\n",
    "function DDEsolve(pp)\n",
    "    lags = [pp[1], pp[2]]\n",
    "    h(p, t) = pp[3]*ones(2)\n",
    "    t = LinRange(0.0, 95.5, 145)\n",
    "    \n",
    "    tspan = (0.0, 95.5)\n",
    "    u0 = [3.0, 2.5]\n",
    "    prob = DDEProblem(DDEmodel, u0, h, tspan, pp; constant_lags = lags)\n",
    "    solve(prob, MethodOfSteps(Tsit5()))\n",
    "end\n",
    "\n",
    "function resid(pp)\n",
    "    t = LinRange(0.0, 95.5, 145)\n",
    "    res = zeros(2, length(t))\n",
    "    sol = DDEsolve(pp)\n",
    "    res[1,:] = sol(t, idxs=1) - G1_new\n",
    "    res[2,:] = sol(t, idxs=2) - G2_new\n",
    "    return res\n",
    "end\n",
    "\n",
    "p = [15.0, 22.0, 13.0, 2.0, 2.0]\n",
    "lowwer = [0.0, 0.0, 0.0, 0.0, 0.0]\n",
    "# upp = [3.0, 3.0, 3.0, 3.0, 30.0, 30.0, 10.0, 10.0, 10.0]\n",
    "results = optimize(resid, p, Dogleg(), lower = lowwer)\n",
    "\n"
   ]
  },
  {
   "cell_type": "markdown",
   "metadata": {},
   "source": [
    "### Solve and Plot for Dogleg() optimization"
   ]
  },
  {
   "cell_type": "code",
   "execution_count": null,
   "metadata": {},
   "outputs": [],
   "source": [
    "params = results.minimizer\n",
    "total_n = (params[5] + params[6]) * total_old\n",
    "G2_n = 0.01*total_n.*G2_old\n",
    "G1_n = total_n - G2_n\n",
    "\n",
    "sol = solution(params)\n",
    "t = LinRange(0.0, 95.5, 145)\n",
    "\n",
    "\n",
    "plot(t, sol(t, idxs=2).u, label = \"G2 est\", title = \"taxol1 Trial 3 Dogleg()\")\n",
    "plot!(t, G2_n, label = \"G2 new\")\n",
    "plot!(t, (sol(t, idxs=2).u + sol(t, idxs=1).u), label = \"total est\")\n",
    "plot!(t, total_n, label = \"total new\")\n",
    "# plot!(t, sol(t, idxs=1).u, label = \"G1 est\")\n",
    "savefig(\"Dox__Dogleg_.png\")"
   ]
  },
  {
   "cell_type": "markdown",
   "metadata": {},
   "source": [
    "### Optimization using Simulated Annealing"
   ]
  },
  {
   "cell_type": "code",
   "execution_count": null,
   "metadata": {},
   "outputs": [],
   "source": [
    "import CSV\n",
    "using LeastSquaresOptim, DifferentialEquations, DelayDiffEq\n",
    "using DiffEqBase, Optim, LinearAlgebra, Plots\n",
    "data = CSV.read(\".//data//taxol1.csv\")\n",
    "total = CSV.read(\".//data//taxol1_pop.csv\")\n",
    "total_old = total[48:end,9];\n",
    "G2_old = data[48:end,9];"
   ]
  },
  {
   "cell_type": "code",
   "execution_count": null,
   "metadata": {},
   "outputs": [],
   "source": [
    "estim_init = [1.8, 1.6] # [init_g1, init_g2]\n",
    "# rescaling the experimental data\n",
    "total_new = (estim_init[1] + estim_init[2]) * total_old\n",
    "G2_new = 0.01*total_new.*G2_old\n",
    "G1_new = total_new - G2_new\n",
    " \n",
    "# This model doesn't assume delay for dying\n",
    "function G1_G2(du, u, h, p, t)\n",
    "    du[1] = -p[1]*(h(p, t-p[5])[1]) + 2*p[2]*(h(p, t-p[6])[2]) - p[3]*u[1]\n",
    "    du[2] = p[1]*(h(p, t-p[5])[1]) - p[2]*(h(p, t-p[6])[2]) - p[4]*u[2] \n",
    "end\n",
    "\n",
    "function solution(pp)\n",
    "    lags = [pp[5], pp[6]]\n",
    "    h(p, t) = pp[9]*ones(2)\n",
    "    t = LinRange(0.0, 71.5, 145)\n",
    "    tspan = (0.0, 71.5)\n",
    "    u0 = [pp[7], pp[8]]\n",
    "\n",
    "    prob = DDEProblem(G1_G2, u0, h, tspan, pp; constant_lags = lags)\n",
    "    sol = solve(prob, MethodOfSteps(Tsit5()))\n",
    "end\n",
    "\n",
    "function resid(pp)\n",
    "    t = LinRange(0.0, 71.5, 145)\n",
    "    sol = solution(pp)\n",
    "    res = sol(t, idxs=2) - G2_new\n",
    "    \n",
    "    return norm(res)\n",
    "end\n",
    "\n",
    "p = [8.31,1.38,0.78,0.70,7.55,7.76,1.8,1.6,4.65]\n",
    "lowwer = [0.0, 0.0, 0.0, 0.0, 0.0, 0.0, 0.0, 0.0, 0.0]\n",
    "upperr = [10.0, 10.0, 10.0, 10.0, 15.0, 15.0, 10.0, 10.0, 10.0]\n",
    "\n",
    "res = optimize(resid, lowwer, upperr, p, SAMIN(rt = 0.7), Optim.Options(iterations = 10^5))\n"
   ]
  },
  {
   "cell_type": "markdown",
   "metadata": {},
   "source": [
    "### Solve after SAMIN() optimization"
   ]
  },
  {
   "cell_type": "code",
   "execution_count": null,
   "metadata": {},
   "outputs": [],
   "source": [
    "par = res.minimizer\n",
    "total_nw = (par[7] + par[8]) * total_old\n",
    "G2_new = 0.01*total_nw.*G2_old\n",
    "G1_new = total_nw - G2_new\n",
    "final = solution(par)\n",
    "t = LinRange(0.0, 71.5, 145)\n",
    "\n",
    "using Plots;\n",
    "plot(t, final(t, idxs=2).u, label = \"G2 est\", title = \"taxol Trial 10 samin(rt=0.7) 24cut\")\n",
    "plot!(t, G2_new, label = \"G2\")\n",
    "plot!(t, (final(t, idxs=2).u + final(t, idxs=1).u), label = \"total est\")\n",
    "plot!(t, total_nw, label = \"total\")\n",
    "# plot!(t, final(t, idxs=1).u, label = \"est G1\")\n",
    "savefig(\"taxol_one_10_samin_rt7_24cut.png\")"
   ]
  }
 ],
 "metadata": {
  "kernelspec": {
   "display_name": "Julia 1.1.1",
   "language": "julia",
   "name": "julia-1.1"
  },
  "language_info": {
   "file_extension": ".jl",
   "mimetype": "application/julia",
   "name": "julia",
   "version": "1.1.1"
  }
 },
 "nbformat": 4,
 "nbformat_minor": 2
}
