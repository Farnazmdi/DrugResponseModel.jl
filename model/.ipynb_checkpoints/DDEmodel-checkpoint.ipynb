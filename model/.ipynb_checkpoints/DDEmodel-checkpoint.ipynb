{
 "cells": [
  {
   "cell_type": "markdown",
   "metadata": {},
   "source": [
    "### Import data"
   ]
  },
  {
   "cell_type": "code",
   "execution_count": 44,
   "metadata": {},
   "outputs": [
    {
     "name": "stdout",
     "output_type": "stream",
     "text": [
      "11.583589823855\n",
      "8.416410176145"
     ]
    },
    {
     "name": "stderr",
     "output_type": "stream",
     "text": [
      "┌ Warning: `delete!(df::AbstractDataFrame, cols::Any)` is deprecated, use `deletecols!(df, cols)` instead.\n",
      "│   caller = top-level scope at In[44]:7\n",
      "└ @ Core In[44]:7\n",
      "┌ Warning: `delete!(df::AbstractDataFrame, cols::Any)` is deprecated, use `deletecols!(df, cols)` instead.\n",
      "│   caller = top-level scope at In[44]:10\n",
      "└ @ Core In[44]:10\n"
     ]
    }
   ],
   "source": [
    "import CSV\n",
    "using LeastSquaresOptim, DifferentialEquations, DelayDiffEq, DiffEqBase, Optim, Plots, Statistics, DataFrames, JLD\n",
    "\n",
    "# Import data\n",
    "data = CSV.read(\"..//data//lap.csv\")\n",
    "total = CSV.read(\"..//data//lap_pop.csv\")\n",
    "\n",
    "# delete the extra index column which strats at 0 \n",
    "delete!(data, :Column1)\n",
    "delete!(total, :Column1)\n",
    "\n",
    "# get the number of data points\n",
    "len = length(data[:,1])\n",
    "time = data[:,1]\n",
    "\n",
    "# just to make sure all have the same size\n",
    "total_old = total[:,7];\n",
    "G2_old = data[:,7];\n",
    "\n",
    "# rescaling the experimental data assuming we have 20 initial cells for each trial\n",
    "init_cells = 20.0\n",
    "total_new = init_cells * total_old\n",
    "G2_new = 0.01*total_new.*G2_old;\n",
    "G1_new = total_new .- G2_new;\n",
    "g2_0 = init_cells*(G2_old[1]/100.0)\n",
    "g1_0 = init_cells*(1- (G2_old[1]/100.0))\n",
    "\n",
    "plot(G1_new, label = \"G1\")\n",
    "plot!(G2_new, label = \"G2\")\n",
    "plot!(total_new, label = \"total\")\n",
    "print(g1_0, \"\\n\", g2_0)\n",
    "\n",
    "# param_holder_lap_dde = zeros(7,9);\n",
    "# param_holder_lap_ode = zeros(4,9);"
   ]
  },
  {
   "cell_type": "markdown",
   "metadata": {},
   "source": [
    "### ODE solve"
   ]
  },
  {
   "cell_type": "code",
   "execution_count": 46,
   "metadata": {},
   "outputs": [
    {
     "data": {
      "text/plain": [
       "Results of Optimization Algorithm\n",
       " * Algorithm: LevenbergMarquardt\n",
       " * Minimizer: [5.5395476037846905,12.80628985910015,5.469504077327573,0.06908457731225512]\n",
       " * Sum of squares at Minimum: 2648.776858\n",
       " * Iterations: 84\n",
       " * Convergence: true\n",
       " * |x - x'| < 1.0e-08: false\n",
       " * |f(x) - f(x')| / |f(x)| < 1.0e-08: true\n",
       " * |g(x)| < 1.0e-08: false\n",
       " * Function Calls: 85\n",
       " * Gradient Calls: 60\n",
       " * Multiplication Calls: 252\n"
      ]
     },
     "execution_count": 46,
     "metadata": {},
     "output_type": "execute_result"
    }
   ],
   "source": [
    "function ODEmodel(du, u, p, t)\n",
    "\n",
    "    du[1] = -p[1]*u[1] + 2*p[2]*u[2] - p[3]*u[1]\n",
    "    du[2] = p[1]*u[1] - p[2]*u[2] - p[4]*u[2]\n",
    "end\n",
    "\n",
    "function ODEsolve(par)\n",
    "    t = LinRange(0.0, 95.5, 192)\n",
    "    tspan = (0.0, 95.5)\n",
    "    u0 = [g1_0, g2_0]\n",
    "    prob = ODEProblem(ODEmodel, u0, tspan, par)\n",
    "    solve(prob, Tsit5())\n",
    "end\n",
    "\n",
    "function residuals(par)\n",
    "    t = LinRange(0.0, 95.5, 192)\n",
    "    res = zeros(2, 192)\n",
    "    sol = ODEsolve(par)\n",
    "    res[2, :] = sol(t, idxs = 1).u - G1_new\n",
    "    res[1, :] = sol(t, idxs = 2).u - G2_new\n",
    "    return res\n",
    "end\n",
    "\n",
    "p = [8.870525323648254,8.492087168644503,0.4344732303091874,7.678477905020965]\n",
    "t = LinRange(0.0, 95.5, 192)\n",
    "low = [0.0, 0.0, 0.0, 0.01]\n",
    "\n",
    "# result_ode = optimize(residuals, p, Dogleg(), lower = low)\n",
    "result_ode = optimize(residuals, p, LevenbergMarquardt(), lower = low; iterations = 10^8)"
   ]
  },
  {
   "cell_type": "code",
   "execution_count": 48,
   "metadata": {},
   "outputs": [],
   "source": [
    "params = result_ode.minimizer\n",
    "# param_holder_lap_ode = CSV.read(\"params_lap_ODE.csv\")\n",
    "param_holder_lap_ode[:, 7] = params\n",
    "CSV.write(\"params_lap_ODE.csv\", DataFrame(param_holder_lap_ode))\n",
    "\n",
    "\n",
    "# param_holder_gem_ode[:, 1] = [\"alpha\", \"beta\", \"gamma1\", \"gamma2\"]\n",
    "# CSV.write(\"params_gem_ODE.csv\", DataFrame(param_holder_gem_ode))\n",
    "\n",
    "# params =  [0.129992538367695,0.04567232337751,0.017989068250636, 0.0601300854109052327189]\n",
    "\n",
    "# sol = DDEsolve(params)\n",
    "t = LinRange(0.0, 95.5, 192)\n",
    "\n",
    "# plot(t, sol(t, idxs=2).u, label = \"G1 est\", legend =:topleft)\n",
    "# plot!(t, G1_new, label = \"G1\")\n",
    "# plot!(t, sol(t, idxs=1).u, title = \"DOX Trial 2 DDE\", label = \"G2 est\")\n",
    "# plot!(t, G2_new, label = \"G2\")\n",
    "# plot!(t, (sol(t, idxs=2).u + sol(t, idxs=1).u), label = \"total est\")\n",
    "# plot!(t, total_new, label = \"total\")\n",
    "# savefig(\"DOX_2_DDE.png\")\n",
    "\n",
    "\n",
    "t_new = LinRange(0.0, 195.5, 292)\n",
    "tspan_new = (0.0, 195.5)\n",
    "u0_new = [g1_0, g2_0]\n",
    "prob_new = ODEProblem(ODEmodel, u0_new, tspan_new, params)\n",
    "solution = solve(prob_new, Tsit5())\n",
    "\n",
    "plot(t_new, solution(t_new, idxs=1).u, label = \"G1 est\", dpi = 150, xlabel = \"time [hours]\", ylabel = \"# of cells\")\n",
    "plot!(t, G1_new, label = \"G1\", dpi = 150)\n",
    "plot!(t_new, solution(t_new, idxs=2).u, label = \"G2 est\", title = \"Lap. Trial 7 ODE\", legend=:topleft, dpi = 150)\n",
    "plot!(t, G2_new, label = \"G2\", dpi = 150)\n",
    "plot!(t_new, (solution(t_new, idxs=2).u + solution(t_new, idxs=1).u), label = \"total est\", dpi = 150)\n",
    "plot!(t, total_new, label = \"total\", dpi = 150)\n",
    "savefig(\"lap_7_ode_long.png\")"
   ]
  },
  {
   "cell_type": "code",
   "execution_count": 49,
   "metadata": {},
   "outputs": [
    {
     "data": {
      "text/plain": [
       "\"params_lap_ODE.csv\""
      ]
     },
     "execution_count": 49,
     "metadata": {},
     "output_type": "execute_result"
    }
   ],
   "source": [
    "param_holder_lap_ode[:, 1] = [\"alpha\", \"beta\", \"gamma1\", \"gamma2\"]\n",
    "CSV.write(\"params_lap_ODE.csv\", DataFrame(param_holder_lap_ode))"
   ]
  },
  {
   "cell_type": "markdown",
   "metadata": {},
   "source": [
    "### Using Dogleg()/ LevenbergMarquardt() for optimization DDE"
   ]
  },
  {
   "cell_type": "code",
   "execution_count": 41,
   "metadata": {},
   "outputs": [
    {
     "data": {
      "text/plain": [
       "Results of Optimization Algorithm\n",
       " * Algorithm: LevenbergMarquardt\n",
       " * Minimizer: [0.024222492191749784,0.09012744834890285,0.451792210409078,32.80419899492562,4.487706020466315,0.01657204942244195,0.021999123796229546]\n",
       " * Sum of squares at Minimum: 562.676891\n",
       " * Iterations: 37\n",
       " * Convergence: true\n",
       " * |x - x'| < 1.0e-08: false\n",
       " * |f(x) - f(x')| / |f(x)| < 1.0e-08: true\n",
       " * |g(x)| < 1.0e-08: false\n",
       " * Function Calls: 38\n",
       " * Gradient Calls: 16\n",
       " * Multiplication Calls: 111\n"
      ]
     },
     "execution_count": 41,
     "metadata": {},
     "output_type": "execute_result"
    }
   ],
   "source": [
    "# This model doesn't assume delay for dying\n",
    "function DDEmodel(du, u, h, p, t)\n",
    "    du[1] = -p[1]*(h(p, t-p[3])[1]) + 2*p[2]*(h(p, t-p[4])[2]) - p[6]*u[1]\n",
    "    du[2] = p[1]*(h(p, t-p[3])[1]) - p[2]*(h(p, t-p[4])[2]) - p[7]*u[2]\n",
    "end\n",
    "\n",
    "function DDEsolve(pp)\n",
    "    lags = [pp[3], pp[4]]\n",
    "    h(p, t) = pp[5]*ones(2)\n",
    "    t = LinRange(0.0, 95.5, 192)\n",
    "\n",
    "    tspan = (0.0, 95.5)\n",
    "    u0 = [g1_0, g2_0]\n",
    "    prob = DDEProblem(DDEmodel, u0, h, tspan, pp; constant_lags = lags)\n",
    "    solve(prob)\n",
    "end\n",
    "\n",
    "function resid(pp)\n",
    "    t = LinRange(0.0, 95.5, 192)\n",
    "    res = zeros(2, 192)\n",
    "    sol = DDEsolve(pp)\n",
    "    res[1, :] = sol(t, idxs=1).u - G1_new\n",
    "    res[2, :] = sol(t, idxs=2).u - G2_new\n",
    "    return res\n",
    "end\n",
    "\n",
    "p = [0.039805275387486225,0.07690651509181225,1.876365120026936,39.305513961500324,9.075712849569838,0.017460127521566463,0.006431622504956714]\n",
    "\n",
    "# setting lowest delay for tau1 to be half an hour and for tau2 to be 3 hours.\n",
    "low = [0.0001, 0.0001, 0.45, 2.0, 0.0001, 0.0001, 0.0001]\n",
    "# results_dde = optimize(resid, p, Dogleg(), lower = low)\n",
    "results_dde = optimize(resid, p, LevenbergMarquardt(), lower = low)"
   ]
  },
  {
   "cell_type": "markdown",
   "metadata": {},
   "source": [
    "### Solve and Plot for Dogleg() optimization"
   ]
  },
  {
   "cell_type": "code",
   "execution_count": 43,
   "metadata": {},
   "outputs": [],
   "source": [
    "params = results_dde.minimizer\n",
    "# param_holder_lap_dde = CSV.read(\"params_lap_DDE.csv\")\n",
    "# param_holder_lap_dde[:, 9] = params \n",
    "# CSV.write(\"params_lap_DDE.csv\",  DataFrame(param_holder_lap_dde))\n",
    "\n",
    "\n",
    "# param_holder_dox_dde[:, 1] = [\"alpha\", \"beta\", \"tau1\", \"tau2\", \"history\", \"gamma1\", \"gamma2\"]\n",
    "# CSV.write(\"params_lap_DDE.csv\",  DataFrame(param_holder_lap_dde))\n",
    "# a function to find the percent of G2/G1\n",
    "\n",
    "\n",
    "# params = [0.006758559730374953,0.03908346228494832,33.415954991720604,12.671989080584897,7.33434043361262,0.001,0.050347773002366731]\n",
    "\n",
    "# [0.0907053578132587,0.0814318178369392, 5.3165035986640648,13.50624238256753,12.617320332544436,0.05271183196084762,0.0642927236871003]\n",
    "# sol = DDEsolve(params)\n",
    "t = LinRange(0.0, 95.5, 192)\n",
    "\n",
    "# plot(t, sol(t, idxs=2).u, label = \"G1 est\", legend =:topleft)\n",
    "# plot!(t, G1_new, label = \"G1\")\n",
    "# plot!(t, sol(t, idxs=1).u, title = \"DOX Trial 2 DDE\", label = \"G2 est\")\n",
    "# plot!(t, G2_new, label = \"G2\")\n",
    "# plot!(t, (sol(t, idxs=2).u + sol(t, idxs=1).u), label = \"total est\")\n",
    "# plot!(t, total_new, label = \"total\")\n",
    "# savefig(\"DOX_2_DDE.png\")\n",
    "\n",
    "lags = [params[3], params[4]]\n",
    "t_new = LinRange(0.0, 195.5, 292)\n",
    "h(p, t_new) = params[5]*ones(2)\n",
    "tspan_new = (0.0, 195.5)\n",
    "u0_new = [g1_0, g2_0]\n",
    "prob_new = DDEProblem(DDEmodel, u0_new, h, tspan_new, params; constant_lags = lags)\n",
    "solution = solve(prob_new, MethodOfSteps(Tsit5()))\n",
    "\n",
    "plot(t_new, solution(t_new, idxs=1).u, label = \"G1 est\", dpi = 150, xlabel = \"time [hours]\", ylabel = \"# of cells\")\n",
    "plot!(t, G1_new, label = \"G1\", dpi = 150)\n",
    "plot!(t_new, solution(t_new, idxs=2).u, label = \"G2 est\", title = \"Lap. Trial 9 DDE\", legend=:topright, dpi = 150)\n",
    "plot!(t, G2_new, label = \"G2\", dpi = 150)\n",
    "plot!(t_new, (solution(t_new, idxs=2).u + solution(t_new, idxs=1).u), label = \"total est\", dpi = 150)\n",
    "plot!(t, total_new, label = \"total\", dpi = 150)\n",
    "savefig(\"lap_9_dde_long.png\")"
   ]
  },
  {
   "cell_type": "code",
   "execution_count": 50,
   "metadata": {},
   "outputs": [
    {
     "data": {
      "text/plain": [
       "\"params_lap_DDE.csv\""
      ]
     },
     "execution_count": 50,
     "metadata": {},
     "output_type": "execute_result"
    }
   ],
   "source": [
    "param_holder_lap_dde[:, 1] = [\"alpha\", \"beta\", \"tau1\", \"tau2\", \"history\", \"gamma1\", \"gamma2\"]\n",
    "CSV.write(\"params_lap_DDE.csv\",  DataFrame(param_holder_lap_dde))"
   ]
  },
  {
   "cell_type": "markdown",
   "metadata": {},
   "source": [
    "### To plot parameters against drug concentrations"
   ]
  },
  {
   "cell_type": "code",
   "execution_count": 83,
   "metadata": {},
   "outputs": [
    {
     "name": "stderr",
     "output_type": "stream",
     "text": [
      "┌ Warning: `convert(::Type{Array}, df::AbstractDataFrame)` is deprecated, use `convert(Matrix, df)` instead.\n",
      "│   caller = top-level scope at In[83]:2\n",
      "└ @ Core In[83]:2\n"
     ]
    },
    {
     "data": {
      "image/svg+xml": [
       "<?xml version=\"1.0\" encoding=\"utf-8\"?>\n",
       "<svg xmlns=\"http://www.w3.org/2000/svg\" xmlns:xlink=\"http://www.w3.org/1999/xlink\" width=\"600\" height=\"400\" viewBox=\"0 0 2400 1600\">\n",
       "<defs>\n",
       "  <clipPath id=\"clip3800\">\n",
       "    <rect x=\"0\" y=\"0\" width=\"2400\" height=\"1600\"/>\n",
       "  </clipPath>\n",
       "</defs>\n",
       "<polygon clip-path=\"url(#clip3800)\" points=\"\n",
       "0,1600 2400,1600 2400,0 0,0 \n",
       "  \" fill=\"#ffffff\" fill-rule=\"evenodd\" fill-opacity=\"1\"/>\n",
       "<defs>\n",
       "  <clipPath id=\"clip3801\">\n",
       "    <rect x=\"480\" y=\"0\" width=\"1681\" height=\"1600\"/>\n",
       "  </clipPath>\n",
       "</defs>\n",
       "<polygon clip-path=\"url(#clip3800)\" points=\"\n",
       "180.66,1487.47 2352.76,1487.47 2352.76,47.2441 180.66,47.2441 \n",
       "  \" fill=\"#ffffff\" fill-rule=\"evenodd\" fill-opacity=\"1\"/>\n",
       "<defs>\n",
       "  <clipPath id=\"clip3802\">\n",
       "    <rect x=\"180\" y=\"47\" width=\"2173\" height=\"1441\"/>\n",
       "  </clipPath>\n",
       "</defs>\n",
       "<polyline clip-path=\"url(#clip3802)\" style=\"stroke:#000000; stroke-width:2; stroke-opacity:0.1; fill:none\" points=\"\n",
       "  221.436,1487.47 221.436,47.2441 \n",
       "  \"/>\n",
       "<polyline clip-path=\"url(#clip3802)\" style=\"stroke:#000000; stroke-width:2; stroke-opacity:0.1; fill:none\" points=\"\n",
       "  635.405,1487.47 635.405,47.2441 \n",
       "  \"/>\n",
       "<polyline clip-path=\"url(#clip3802)\" style=\"stroke:#000000; stroke-width:2; stroke-opacity:0.1; fill:none\" points=\"\n",
       "  1049.37,1487.47 1049.37,47.2441 \n",
       "  \"/>\n",
       "<polyline clip-path=\"url(#clip3802)\" style=\"stroke:#000000; stroke-width:2; stroke-opacity:0.1; fill:none\" points=\"\n",
       "  1463.34,1487.47 1463.34,47.2441 \n",
       "  \"/>\n",
       "<polyline clip-path=\"url(#clip3802)\" style=\"stroke:#000000; stroke-width:2; stroke-opacity:0.1; fill:none\" points=\"\n",
       "  1877.31,1487.47 1877.31,47.2441 \n",
       "  \"/>\n",
       "<polyline clip-path=\"url(#clip3802)\" style=\"stroke:#000000; stroke-width:2; stroke-opacity:0.1; fill:none\" points=\"\n",
       "  2291.28,1487.47 2291.28,47.2441 \n",
       "  \"/>\n",
       "<polyline clip-path=\"url(#clip3802)\" style=\"stroke:#000000; stroke-width:2; stroke-opacity:0.1; fill:none\" points=\"\n",
       "  180.66,1313.68 2352.76,1313.68 \n",
       "  \"/>\n",
       "<polyline clip-path=\"url(#clip3802)\" style=\"stroke:#000000; stroke-width:2; stroke-opacity:0.1; fill:none\" points=\"\n",
       "  180.66,940.885 2352.76,940.885 \n",
       "  \"/>\n",
       "<polyline clip-path=\"url(#clip3802)\" style=\"stroke:#000000; stroke-width:2; stroke-opacity:0.1; fill:none\" points=\"\n",
       "  180.66,568.085 2352.76,568.085 \n",
       "  \"/>\n",
       "<polyline clip-path=\"url(#clip3802)\" style=\"stroke:#000000; stroke-width:2; stroke-opacity:0.1; fill:none\" points=\"\n",
       "  180.66,195.286 2352.76,195.286 \n",
       "  \"/>\n",
       "<polyline clip-path=\"url(#clip3800)\" style=\"stroke:#000000; stroke-width:4; stroke-opacity:1; fill:none\" points=\"\n",
       "  180.66,1487.47 2352.76,1487.47 \n",
       "  \"/>\n",
       "<polyline clip-path=\"url(#clip3800)\" style=\"stroke:#000000; stroke-width:4; stroke-opacity:1; fill:none\" points=\"\n",
       "  180.66,1487.47 180.66,47.2441 \n",
       "  \"/>\n",
       "<polyline clip-path=\"url(#clip3800)\" style=\"stroke:#000000; stroke-width:4; stroke-opacity:1; fill:none\" points=\"\n",
       "  221.436,1487.47 221.436,1465.87 \n",
       "  \"/>\n",
       "<polyline clip-path=\"url(#clip3800)\" style=\"stroke:#000000; stroke-width:4; stroke-opacity:1; fill:none\" points=\"\n",
       "  635.405,1487.47 635.405,1465.87 \n",
       "  \"/>\n",
       "<polyline clip-path=\"url(#clip3800)\" style=\"stroke:#000000; stroke-width:4; stroke-opacity:1; fill:none\" points=\"\n",
       "  1049.37,1487.47 1049.37,1465.87 \n",
       "  \"/>\n",
       "<polyline clip-path=\"url(#clip3800)\" style=\"stroke:#000000; stroke-width:4; stroke-opacity:1; fill:none\" points=\"\n",
       "  1463.34,1487.47 1463.34,1465.87 \n",
       "  \"/>\n",
       "<polyline clip-path=\"url(#clip3800)\" style=\"stroke:#000000; stroke-width:4; stroke-opacity:1; fill:none\" points=\"\n",
       "  1877.31,1487.47 1877.31,1465.87 \n",
       "  \"/>\n",
       "<polyline clip-path=\"url(#clip3800)\" style=\"stroke:#000000; stroke-width:4; stroke-opacity:1; fill:none\" points=\"\n",
       "  2291.28,1487.47 2291.28,1465.87 \n",
       "  \"/>\n",
       "<polyline clip-path=\"url(#clip3800)\" style=\"stroke:#000000; stroke-width:4; stroke-opacity:1; fill:none\" points=\"\n",
       "  180.66,1313.68 213.242,1313.68 \n",
       "  \"/>\n",
       "<polyline clip-path=\"url(#clip3800)\" style=\"stroke:#000000; stroke-width:4; stroke-opacity:1; fill:none\" points=\"\n",
       "  180.66,940.885 213.242,940.885 \n",
       "  \"/>\n",
       "<polyline clip-path=\"url(#clip3800)\" style=\"stroke:#000000; stroke-width:4; stroke-opacity:1; fill:none\" points=\"\n",
       "  180.66,568.085 213.242,568.085 \n",
       "  \"/>\n",
       "<polyline clip-path=\"url(#clip3800)\" style=\"stroke:#000000; stroke-width:4; stroke-opacity:1; fill:none\" points=\"\n",
       "  180.66,195.286 213.242,195.286 \n",
       "  \"/>\n",
       "<g clip-path=\"url(#clip3800)\">\n",
       "<text style=\"fill:#000000; fill-opacity:1; font-family:Arial,Helvetica Neue,Helvetica,sans-serif; font-size:48px; text-anchor:middle;\" transform=\"rotate(0, 221.436, 1541.47)\" x=\"221.436\" y=\"1541.47\">0</text>\n",
       "</g>\n",
       "<g clip-path=\"url(#clip3800)\">\n",
       "<text style=\"fill:#000000; fill-opacity:1; font-family:Arial,Helvetica Neue,Helvetica,sans-serif; font-size:48px; text-anchor:middle;\" transform=\"rotate(0, 635.405, 1541.47)\" x=\"635.405\" y=\"1541.47\">100</text>\n",
       "</g>\n",
       "<g clip-path=\"url(#clip3800)\">\n",
       "<text style=\"fill:#000000; fill-opacity:1; font-family:Arial,Helvetica Neue,Helvetica,sans-serif; font-size:48px; text-anchor:middle;\" transform=\"rotate(0, 1049.37, 1541.47)\" x=\"1049.37\" y=\"1541.47\">200</text>\n",
       "</g>\n",
       "<g clip-path=\"url(#clip3800)\">\n",
       "<text style=\"fill:#000000; fill-opacity:1; font-family:Arial,Helvetica Neue,Helvetica,sans-serif; font-size:48px; text-anchor:middle;\" transform=\"rotate(0, 1463.34, 1541.47)\" x=\"1463.34\" y=\"1541.47\">300</text>\n",
       "</g>\n",
       "<g clip-path=\"url(#clip3800)\">\n",
       "<text style=\"fill:#000000; fill-opacity:1; font-family:Arial,Helvetica Neue,Helvetica,sans-serif; font-size:48px; text-anchor:middle;\" transform=\"rotate(0, 1877.31, 1541.47)\" x=\"1877.31\" y=\"1541.47\">400</text>\n",
       "</g>\n",
       "<g clip-path=\"url(#clip3800)\">\n",
       "<text style=\"fill:#000000; fill-opacity:1; font-family:Arial,Helvetica Neue,Helvetica,sans-serif; font-size:48px; text-anchor:middle;\" transform=\"rotate(0, 2291.28, 1541.47)\" x=\"2291.28\" y=\"1541.47\">500</text>\n",
       "</g>\n",
       "<g clip-path=\"url(#clip3800)\">\n",
       "<text style=\"fill:#000000; fill-opacity:1; font-family:Arial,Helvetica Neue,Helvetica,sans-serif; font-size:48px; text-anchor:end;\" transform=\"rotate(0, 156.66, 1331.18)\" x=\"156.66\" y=\"1331.18\">0.01</text>\n",
       "</g>\n",
       "<g clip-path=\"url(#clip3800)\">\n",
       "<text style=\"fill:#000000; fill-opacity:1; font-family:Arial,Helvetica Neue,Helvetica,sans-serif; font-size:48px; text-anchor:end;\" transform=\"rotate(0, 156.66, 958.385)\" x=\"156.66\" y=\"958.385\">0.02</text>\n",
       "</g>\n",
       "<g clip-path=\"url(#clip3800)\">\n",
       "<text style=\"fill:#000000; fill-opacity:1; font-family:Arial,Helvetica Neue,Helvetica,sans-serif; font-size:48px; text-anchor:end;\" transform=\"rotate(0, 156.66, 585.585)\" x=\"156.66\" y=\"585.585\">0.03</text>\n",
       "</g>\n",
       "<g clip-path=\"url(#clip3800)\">\n",
       "<text style=\"fill:#000000; fill-opacity:1; font-family:Arial,Helvetica Neue,Helvetica,sans-serif; font-size:48px; text-anchor:end;\" transform=\"rotate(0, 156.66, 212.786)\" x=\"156.66\" y=\"212.786\">0.04</text>\n",
       "</g>\n",
       "<polyline clip-path=\"url(#clip3802)\" style=\"stroke:#009af9; stroke-width:4; stroke-opacity:1; fill:none\" points=\"\n",
       "  242.135,894.116 262.833,88.0053 324.929,189.197 428.421,1446.71 635.405,1300.72 1256.36,1210.35 2291.28,866.358 \n",
       "  \"/>\n",
       "<polygon clip-path=\"url(#clip3800)\" points=\"\n",
       "1853.52,251.724 2280.76,251.724 2280.76,130.764 1853.52,130.764 \n",
       "  \" fill=\"#ffffff\" fill-rule=\"evenodd\" fill-opacity=\"1\"/>\n",
       "<polyline clip-path=\"url(#clip3800)\" style=\"stroke:#000000; stroke-width:4; stroke-opacity:1; fill:none\" points=\"\n",
       "  1853.52,251.724 2280.76,251.724 2280.76,130.764 1853.52,130.764 1853.52,251.724 \n",
       "  \"/>\n",
       "<polyline clip-path=\"url(#clip3800)\" style=\"stroke:#009af9; stroke-width:4; stroke-opacity:1; fill:none\" points=\"\n",
       "  1877.52,191.244 2021.52,191.244 \n",
       "  \"/>\n",
       "<g clip-path=\"url(#clip3800)\">\n",
       "<text style=\"fill:#000000; fill-opacity:1; font-family:Arial,Helvetica Neue,Helvetica,sans-serif; font-size:48px; text-anchor:start;\" transform=\"rotate(0, 2045.52, 208.744)\" x=\"2045.52\" y=\"208.744\">gamma1</text>\n",
       "</g>\n",
       "</svg>\n"
      ]
     },
     "execution_count": 83,
     "metadata": {},
     "output_type": "execute_result"
    }
   ],
   "source": [
    "param_lap_dde = CSV.read(\".//figures//Lapatinib//dde//params_lap_DDE.csv\")\n",
    "d = convert(Array, param_lap_dde[:,3:end])\n",
    "conc = d[8, :]\n",
    "plot(conc, d[1,:], label = \"alpha\")\n",
    "plot!(conc, d[2,:], label = \"beta\")\n",
    "\n",
    "plot(conc, d[7,:], label = \"gamma1\")\n",
    "# plot!(conc, d[8, :], label = \"gamma2\")\n",
    "# alpha = param_lap_dde[1, 3:end]\n",
    "# plot(param_lap_dde[8, 3:end], param_lap_dde[2, 3:end])\n"
   ]
  }
 ],
 "metadata": {
  "kernelspec": {
   "display_name": "Julia 1.1.1",
   "language": "julia",
   "name": "julia-1.1"
  },
  "language_info": {
   "file_extension": ".jl",
   "mimetype": "application/julia",
   "name": "julia",
   "version": "1.1.1"
  }
 },
 "nbformat": 4,
 "nbformat_minor": 2
}
