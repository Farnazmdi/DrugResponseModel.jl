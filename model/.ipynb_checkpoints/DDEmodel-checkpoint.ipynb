{
 "cells": [
  {
   "cell_type": "markdown",
   "metadata": {},
   "source": [
    "### Import data"
   ]
  },
  {
   "cell_type": "code",
   "execution_count": 44,
   "metadata": {},
   "outputs": [
    {
     "name": "stdout",
     "output_type": "stream",
     "text": [
      "11.583589823855\n",
      "8.416410176145"
     ]
    },
    {
     "name": "stderr",
     "output_type": "stream",
     "text": [
      "┌ Warning: `delete!(df::AbstractDataFrame, cols::Any)` is deprecated, use `deletecols!(df, cols)` instead.\n",
      "│   caller = top-level scope at In[44]:7\n",
      "└ @ Core In[44]:7\n",
      "┌ Warning: `delete!(df::AbstractDataFrame, cols::Any)` is deprecated, use `deletecols!(df, cols)` instead.\n",
      "│   caller = top-level scope at In[44]:10\n",
      "└ @ Core In[44]:10\n"
     ]
    }
   ],
   "source": [
    "import CSV\n",
    "using LeastSquaresOptim, DifferentialEquations, DelayDiffEq, DiffEqBase, Optim, Plots, Statistics, DataFrames, JLD\n",
    "\n",
    "# Import data\n",
    "data = CSV.read(\"..//data//lap.csv\")\n",
    "total = CSV.read(\"..//data//lap_pop.csv\")\n",
    "\n",
    "# delete the extra index column which strats at 0 \n",
    "delete!(data, :Column1)\n",
    "delete!(total, :Column1)\n",
    "\n",
    "# get the number of data points\n",
    "len = length(data[:,1])\n",
    "time = data[:,1]\n",
    "\n",
    "# just to make sure all have the same size\n",
    "total_old = total[:,7];\n",
    "G2_old = data[:,7];\n",
    "\n",
    "# rescaling the experimental data assuming we have 20 initial cells for each trial\n",
    "init_cells = 20.0\n",
    "total_new = init_cells * total_old\n",
    "G2_new = 0.01*total_new.*G2_old;\n",
    "G1_new = total_new .- G2_new;\n",
    "g2_0 = init_cells*(G2_old[1]/100.0)\n",
    "g1_0 = init_cells*(1- (G2_old[1]/100.0))\n",
    "\n",
    "plot(G1_new, label = \"G1\")\n",
    "plot!(G2_new, label = \"G2\")\n",
    "plot!(total_new, label = \"total\")\n",
    "print(g1_0, \"\\n\", g2_0)\n",
    "\n",
    "# param_holder_lap_dde = zeros(7,9);\n",
    "# param_holder_lap_ode = zeros(4,9);"
   ]
  },
  {
   "cell_type": "markdown",
   "metadata": {},
   "source": [
    "### ODE solve"
   ]
  },
  {
   "cell_type": "code",
   "execution_count": 46,
   "metadata": {},
   "outputs": [
    {
     "data": {
      "text/plain": [
       "Results of Optimization Algorithm\n",
       " * Algorithm: LevenbergMarquardt\n",
       " * Minimizer: [5.5395476037846905,12.80628985910015,5.469504077327573,0.06908457731225512]\n",
       " * Sum of squares at Minimum: 2648.776858\n",
       " * Iterations: 84\n",
       " * Convergence: true\n",
       " * |x - x'| < 1.0e-08: false\n",
       " * |f(x) - f(x')| / |f(x)| < 1.0e-08: true\n",
       " * |g(x)| < 1.0e-08: false\n",
       " * Function Calls: 85\n",
       " * Gradient Calls: 60\n",
       " * Multiplication Calls: 252\n"
      ]
     },
     "execution_count": 46,
     "metadata": {},
     "output_type": "execute_result"
    }
   ],
   "source": [
    "function ODEmodel(du, u, p, t)\n",
    "\n",
    "    du[1] = -p[1]*u[1] + 2*p[2]*u[2] - p[3]*u[1]\n",
    "    du[2] = p[1]*u[1] - p[2]*u[2] - p[4]*u[2]\n",
    "end\n",
    "\n",
    "function ODEsolve(par)\n",
    "    t = LinRange(0.0, 95.5, 192)\n",
    "    tspan = (0.0, 95.5)\n",
    "    u0 = [g1_0, g2_0]\n",
    "    prob = ODEProblem(ODEmodel, u0, tspan, par)\n",
    "    solve(prob, Tsit5())\n",
    "end\n",
    "\n",
    "function residuals(par)\n",
    "    t = LinRange(0.0, 95.5, 192)\n",
    "    res = zeros(2, 192)\n",
    "    sol = ODEsolve(par)\n",
    "    res[2, :] = sol(t, idxs = 1).u - G1_new\n",
    "    res[1, :] = sol(t, idxs = 2).u - G2_new\n",
    "    return res\n",
    "end\n",
    "\n",
    "p = [8.870525323648254,8.492087168644503,0.4344732303091874,7.678477905020965]\n",
    "t = LinRange(0.0, 95.5, 192)\n",
    "low = [0.0, 0.0, 0.0, 0.01]\n",
    "\n",
    "# result_ode = optimize(residuals, p, Dogleg(), lower = low)\n",
    "result_ode = optimize(residuals, p, LevenbergMarquardt(), lower = low; iterations = 10^8)"
   ]
  },
  {
   "cell_type": "code",
   "execution_count": 48,
   "metadata": {},
   "outputs": [],
   "source": [
    "params = result_ode.minimizer\n",
    "# param_holder_lap_ode = CSV.read(\"params_lap_ODE.csv\")\n",
    "param_holder_lap_ode[:, 7] = params\n",
    "CSV.write(\"params_lap_ODE.csv\", DataFrame(param_holder_lap_ode))\n",
    "\n",
    "\n",
    "# param_holder_gem_ode[:, 1] = [\"alpha\", \"beta\", \"gamma1\", \"gamma2\"]\n",
    "# CSV.write(\"params_gem_ODE.csv\", DataFrame(param_holder_gem_ode))\n",
    "\n",
    "# params =  [0.129992538367695,0.04567232337751,0.017989068250636, 0.0601300854109052327189]\n",
    "\n",
    "# sol = DDEsolve(params)\n",
    "t = LinRange(0.0, 95.5, 192)\n",
    "\n",
    "# plot(t, sol(t, idxs=2).u, label = \"G1 est\", legend =:topleft)\n",
    "# plot!(t, G1_new, label = \"G1\")\n",
    "# plot!(t, sol(t, idxs=1).u, title = \"DOX Trial 2 DDE\", label = \"G2 est\")\n",
    "# plot!(t, G2_new, label = \"G2\")\n",
    "# plot!(t, (sol(t, idxs=2).u + sol(t, idxs=1).u), label = \"total est\")\n",
    "# plot!(t, total_new, label = \"total\")\n",
    "# savefig(\"DOX_2_DDE.png\")\n",
    "\n",
    "\n",
    "t_new = LinRange(0.0, 195.5, 292)\n",
    "tspan_new = (0.0, 195.5)\n",
    "u0_new = [g1_0, g2_0]\n",
    "prob_new = ODEProblem(ODEmodel, u0_new, tspan_new, params)\n",
    "solution = solve(prob_new, Tsit5())\n",
    "\n",
    "plot(t_new, solution(t_new, idxs=1).u, label = \"G1 est\", dpi = 150, xlabel = \"time [hours]\", ylabel = \"# of cells\")\n",
    "plot!(t, G1_new, label = \"G1\", dpi = 150)\n",
    "plot!(t_new, solution(t_new, idxs=2).u, label = \"G2 est\", title = \"Lap. Trial 7 ODE\", legend=:topleft, dpi = 150)\n",
    "plot!(t, G2_new, label = \"G2\", dpi = 150)\n",
    "plot!(t_new, (solution(t_new, idxs=2).u + solution(t_new, idxs=1).u), label = \"total est\", dpi = 150)\n",
    "plot!(t, total_new, label = \"total\", dpi = 150)\n",
    "savefig(\"lap_7_ode_long.png\")"
   ]
  },
  {
   "cell_type": "code",
   "execution_count": 49,
   "metadata": {},
   "outputs": [
    {
     "data": {
      "text/plain": [
       "\"params_lap_ODE.csv\""
      ]
     },
     "execution_count": 49,
     "metadata": {},
     "output_type": "execute_result"
    }
   ],
   "source": [
    "param_holder_lap_ode[:, 1] = [\"alpha\", \"beta\", \"gamma1\", \"gamma2\"]\n",
    "CSV.write(\"params_lap_ODE.csv\", DataFrame(param_holder_lap_ode))"
   ]
  },
  {
   "cell_type": "markdown",
   "metadata": {},
   "source": [
    "### Using Dogleg()/ LevenbergMarquardt() for optimization DDE"
   ]
  },
  {
   "cell_type": "code",
   "execution_count": 41,
   "metadata": {},
   "outputs": [
    {
     "data": {
      "text/plain": [
       "Results of Optimization Algorithm\n",
       " * Algorithm: LevenbergMarquardt\n",
       " * Minimizer: [0.024222492191749784,0.09012744834890285,0.451792210409078,32.80419899492562,4.487706020466315,0.01657204942244195,0.021999123796229546]\n",
       " * Sum of squares at Minimum: 562.676891\n",
       " * Iterations: 37\n",
       " * Convergence: true\n",
       " * |x - x'| < 1.0e-08: false\n",
       " * |f(x) - f(x')| / |f(x)| < 1.0e-08: true\n",
       " * |g(x)| < 1.0e-08: false\n",
       " * Function Calls: 38\n",
       " * Gradient Calls: 16\n",
       " * Multiplication Calls: 111\n"
      ]
     },
     "execution_count": 41,
     "metadata": {},
     "output_type": "execute_result"
    }
   ],
   "source": [
    "# This model doesn't assume delay for dying\n",
    "function DDEmodel(du, u, h, p, t)\n",
    "    du[1] = -p[1]*(h(p, t-p[3])[1]) + 2*p[2]*(h(p, t-p[4])[2]) - p[6]*u[1]\n",
    "    du[2] = p[1]*(h(p, t-p[3])[1]) - p[2]*(h(p, t-p[4])[2]) - p[7]*u[2]\n",
    "end\n",
    "\n",
    "function DDEsolve(pp)\n",
    "    lags = [pp[3], pp[4]]\n",
    "    h(p, t) = pp[5]*ones(2)\n",
    "    t = LinRange(0.0, 95.5, 192)\n",
    "\n",
    "    tspan = (0.0, 95.5)\n",
    "    u0 = [g1_0, g2_0]\n",
    "    prob = DDEProblem(DDEmodel, u0, h, tspan, pp; constant_lags = lags)\n",
    "    solve(prob)\n",
    "end\n",
    "\n",
    "function resid(pp)\n",
    "    t = LinRange(0.0, 95.5, 192)\n",
    "    res = zeros(2, 192)\n",
    "    sol = DDEsolve(pp)\n",
    "    res[1, :] = sol(t, idxs=1).u - G1_new\n",
    "    res[2, :] = sol(t, idxs=2).u - G2_new\n",
    "    return res\n",
    "end\n",
    "\n",
    "p = [0.039805275387486225,0.07690651509181225,1.876365120026936,39.305513961500324,9.075712849569838,0.017460127521566463,0.006431622504956714]\n",
    "\n",
    "# setting lowest delay for tau1 to be half an hour and for tau2 to be 3 hours.\n",
    "low = [0.0001, 0.0001, 0.45, 2.0, 0.0001, 0.0001, 0.0001]\n",
    "# results_dde = optimize(resid, p, Dogleg(), lower = low)\n",
    "results_dde = optimize(resid, p, LevenbergMarquardt(), lower = low)"
   ]
  },
  {
   "cell_type": "markdown",
   "metadata": {},
   "source": [
    "### Solve and Plot for Dogleg() optimization"
   ]
  },
  {
   "cell_type": "code",
   "execution_count": 43,
   "metadata": {},
   "outputs": [],
   "source": [
    "params = results_dde.minimizer\n",
    "# param_holder_lap_dde = CSV.read(\"params_lap_DDE.csv\")\n",
    "# param_holder_lap_dde[:, 9] = params \n",
    "# CSV.write(\"params_lap_DDE.csv\",  DataFrame(param_holder_lap_dde))\n",
    "\n",
    "\n",
    "# param_holder_dox_dde[:, 1] = [\"alpha\", \"beta\", \"tau1\", \"tau2\", \"history\", \"gamma1\", \"gamma2\"]\n",
    "# CSV.write(\"params_lap_DDE.csv\",  DataFrame(param_holder_lap_dde))\n",
    "# a function to find the percent of G2/G1\n",
    "\n",
    "\n",
    "# params = [0.006758559730374953,0.03908346228494832,33.415954991720604,12.671989080584897,7.33434043361262,0.001,0.050347773002366731]\n",
    "\n",
    "# [0.0907053578132587,0.0814318178369392, 5.3165035986640648,13.50624238256753,12.617320332544436,0.05271183196084762,0.0642927236871003]\n",
    "# sol = DDEsolve(params)\n",
    "t = LinRange(0.0, 95.5, 192)\n",
    "\n",
    "# plot(t, sol(t, idxs=2).u, label = \"G1 est\", legend =:topleft)\n",
    "# plot!(t, G1_new, label = \"G1\")\n",
    "# plot!(t, sol(t, idxs=1).u, title = \"DOX Trial 2 DDE\", label = \"G2 est\")\n",
    "# plot!(t, G2_new, label = \"G2\")\n",
    "# plot!(t, (sol(t, idxs=2).u + sol(t, idxs=1).u), label = \"total est\")\n",
    "# plot!(t, total_new, label = \"total\")\n",
    "# savefig(\"DOX_2_DDE.png\")\n",
    "\n",
    "lags = [params[3], params[4]]\n",
    "t_new = LinRange(0.0, 195.5, 292)\n",
    "h(p, t_new) = params[5]*ones(2)\n",
    "tspan_new = (0.0, 195.5)\n",
    "u0_new = [g1_0, g2_0]\n",
    "prob_new = DDEProblem(DDEmodel, u0_new, h, tspan_new, params; constant_lags = lags)\n",
    "solution = solve(prob_new, MethodOfSteps(Tsit5()))\n",
    "\n",
    "plot(t_new, solution(t_new, idxs=1).u, label = \"G1 est\", dpi = 150, xlabel = \"time [hours]\", ylabel = \"# of cells\")\n",
    "plot!(t, G1_new, label = \"G1\", dpi = 150)\n",
    "plot!(t_new, solution(t_new, idxs=2).u, label = \"G2 est\", title = \"Lap. Trial 9 DDE\", legend=:topright, dpi = 150)\n",
    "plot!(t, G2_new, label = \"G2\", dpi = 150)\n",
    "plot!(t_new, (solution(t_new, idxs=2).u + solution(t_new, idxs=1).u), label = \"total est\", dpi = 150)\n",
    "plot!(t, total_new, label = \"total\", dpi = 150)\n",
    "savefig(\"lap_9_dde_long.png\")"
   ]
  },
  {
   "cell_type": "code",
   "execution_count": 50,
   "metadata": {},
   "outputs": [
    {
     "data": {
      "text/plain": [
       "\"params_lap_DDE.csv\""
      ]
     },
     "execution_count": 50,
     "metadata": {},
     "output_type": "execute_result"
    }
   ],
   "source": [
    "param_holder_lap_dde[:, 1] = [\"alpha\", \"beta\", \"tau1\", \"tau2\", \"history\", \"gamma1\", \"gamma2\"]\n",
    "CSV.write(\"params_lap_DDE.csv\",  DataFrame(param_holder_lap_dde))"
   ]
  },
  {
   "cell_type": "markdown",
   "metadata": {},
   "source": [
    "### To plot parameters against drug concentrations"
   ]
  },
  {
   "cell_type": "code",
   "execution_count": null,
   "metadata": {},
   "outputs": [
    {
     "name": "stderr",
     "output_type": "stream",
     "text": [
      "┌ Info: Precompiling Gadfly [c91e804a-d5a3-530f-b6f0-dfbca275c004]\n",
      "└ @ Base loading.jl:1186\n"
     ]
    }
   ],
   "source": [
    "using Gadfly;\n",
    "ioff()\n",
    "param_lap_dde = CSV.read(\".//figures//Lapatinib//dde//params_lap_DDE.csv\")\n",
    "param_gem_dde = CSV.read(\".//figures//Gem//dde//params_gem_DDE.csv\")\n",
    "param_dox_dde = CSV.read(\".//figures//Dox//dde//params_dox_DDE.csv\")\n",
    "param_taxol1_dde = CSV.read(\".//figures//taxol//dde//params_taxol1_DDE.csv\")\n",
    "lap = convert(Matrix, param_lap_dde[:,3:end])\n",
    "gem = convert(Matrix, param_gem_dde[:,3:end])\n",
    "dox = convert(Matrix, param_dox_dde[:,3:end])\n",
    "tax = convert(Matrix, param_taxol1_dde[:,3:end])\n",
    "\n",
    "\n",
    "p1 = plot(lap[8, :], lap[1, :], label = \"Lapatinib\", title = \"alpha against conc.\")\n",
    "\n",
    "p2 = plot(gem[8, :], gem[1, :], label = \"Gemcitabine\")\n",
    "\n",
    "p3 = plot(dox[8, :], dox[1, :], label = \"Doxorubicin\")\n",
    "\n",
    "p4 = plot(tax[8, :], tax[1, :], label = \"Paclitaxel\")\n",
    "p = [p1 p2\n",
    "p3 p4]\n",
    "\n",
    "p1 = Gadfly.plot(lap[8, :], lap[1, :], label = \"Lapatinib\")\n",
    "p2 = Gadfly.plot(gem[8, :], gem[1, :], label = \"Gemcitabine\")\n",
    "stack = hstack(p1, p2) # will arrange the plots horizontally\n",
    "title(stack, \"alpha\") # let's give a title\n",
    "# savefig(\"output_filename.png\")"
   ]
  }
 ],
 "metadata": {
  "kernelspec": {
   "display_name": "Julia 1.1.1",
   "language": "julia",
   "name": "julia-1.1"
  },
  "language_info": {
   "file_extension": ".jl",
   "mimetype": "application/julia",
   "name": "julia",
   "version": "1.1.1"
  }
 },
 "nbformat": 4,
 "nbformat_minor": 2
}
