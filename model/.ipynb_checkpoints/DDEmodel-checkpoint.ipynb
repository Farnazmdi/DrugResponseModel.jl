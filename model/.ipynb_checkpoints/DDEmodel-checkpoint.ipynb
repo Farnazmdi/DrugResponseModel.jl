{
 "cells": [
  {
   "cell_type": "markdown",
   "metadata": {},
   "source": [
    "### Import data"
   ]
  },
  {
   "cell_type": "code",
   "execution_count": 79,
   "metadata": {},
   "outputs": [
    {
     "name": "stdout",
     "output_type": "stream",
     "text": [
      "13.88070539058\n",
      "6.119294609420001"
     ]
    }
   ],
   "source": [
    "import CSV\n",
    "using LeastSquaresOptim, DifferentialEquations, DelayDiffEq, DiffEqBase, Optim, Plots, Statistics, DataFrames\n",
    "\n",
    "# Import data\n",
    "data = CSV.read(\"..//data//lap.csv\")\n",
    "total = CSV.read(\"..//data//lap_pop.csv\")\n",
    "\n",
    "# delete the extra index column which strats at 0 \n",
    "deletecols!(data, :Column1)\n",
    "deletecols!(total, :Column1)\n",
    "\n",
    "# get the number of data points\n",
    "len = length(data[:,1])\n",
    "time = data[:,1]\n",
    "\n",
    "# just to make sure all have the same size\n",
    "total_old = total[:,9];\n",
    "G2_old = data[:,9];\n",
    "\n",
    "# rescaling the experimental data assuming we have 20 initial cells for each trial\n",
    "init_cells = 20.0\n",
    "total_new = init_cells * total_old\n",
    "G2_new = 0.01*total_new.*G2_old;\n",
    "G1_new = total_new .- G2_new;\n",
    "g2_0 = init_cells*(G2_old[1]/100.0)\n",
    "g1_0 = init_cells*(1- (G2_old[1]/100.0))\n",
    "\n",
    "plot(G1_new, label = \"G1\")\n",
    "plot!(G2_new, label = \"G2\")\n",
    "plot!(total_new, label = \"total\")\n",
    "print(g1_0, \"\\n\", g2_0)\n",
    "\n",
    "# param_holder_lap_dde = zeros(7,9);\n",
    "# param_holder_lap_ode = zeros(4,9);"
   ]
  },
  {
   "cell_type": "markdown",
   "metadata": {},
   "source": [
    "### ODE solve"
   ]
  },
  {
   "cell_type": "code",
   "execution_count": null,
   "metadata": {},
   "outputs": [],
   "source": [
    "function ODEmodel(du, u, p, t)\n",
    "\n",
    "    du[1] = -p[1]*u[1] + 2*p[2]*u[2] - p[3]*u[1]\n",
    "    du[2] = p[1]*u[1] - p[2]*u[2] - p[4]*u[2]\n",
    "end\n",
    "\n",
    "function ODEsolve(par)\n",
    "    t = LinRange(0.0, 95.5, 192)\n",
    "    tspan = (0.0, 95.5)\n",
    "    u0 = [g1_0, g2_0]\n",
    "    prob = ODEProblem(ODEmodel, u0, tspan, par)\n",
    "    solve(prob, Tsit5())\n",
    "end\n",
    "\n",
    "function residuals(par)\n",
    "    t = LinRange(0.0, 95.5, 192)\n",
    "    res = zeros(2, 192)\n",
    "    sol = ODEsolve(par)\n",
    "    res[2, :] = sol(t, idxs = 1).u - G1_new\n",
    "    res[1, :] = sol(t, idxs = 2).u - G2_new\n",
    "    return res\n",
    "end\n",
    "\n",
    "p = [8.870525323648254,8.492087168644503,0.4344732303091874,7.678477905020965]\n",
    "t = LinRange(0.0, 95.5, 192)\n",
    "low = [0.0, 0.0, 0.0, 0.01]\n",
    "\n",
    "# result_ode = optimize(residuals, p, Dogleg(), lower = low)\n",
    "result_ode = optimize(residuals, p, LevenbergMarquardt(), lower = low)"
   ]
  },
  {
   "cell_type": "code",
   "execution_count": null,
   "metadata": {},
   "outputs": [],
   "source": [
    "params = result_ode.minimizer\n",
    "param_holder_lap_ode = CSV.read(\"params_lap_ODE.csv\")\n",
    "param_holder_lap_ode[:, 7] = params\n",
    "CSV.write(\"params_lap_ODE.csv\", DataFrame(param_holder_lap_ode))\n",
    "\n",
    "\n",
    "# param_holder_gem_ode[:, 1] = [\"alpha\", \"beta\", \"gamma1\", \"gamma2\"]\n",
    "# CSV.write(\"params_gem_ODE.csv\", DataFrame(param_holder_gem_ode))\n",
    "\n",
    "# params =  [0.129992538367695,0.04567232337751,0.017989068250636, 0.0601300854109052327189]\n",
    "\n",
    "# sol = DDEsolve(params)\n",
    "t = LinRange(0.0, 95.5, 192)\n",
    "\n",
    "# plot(t, sol(t, idxs=2).u, label = \"G1 est\", legend =:topleft)\n",
    "# plot!(t, G1_new, label = \"G1\")\n",
    "# plot!(t, sol(t, idxs=1).u, title = \"DOX Trial 2 DDE\", label = \"G2 est\")\n",
    "# plot!(t, G2_new, label = \"G2\")\n",
    "# plot!(t, (sol(t, idxs=2).u + sol(t, idxs=1).u), label = \"total est\")\n",
    "# plot!(t, total_new, label = \"total\")\n",
    "# savefig(\"DOX_2_DDE.png\")\n",
    "\n",
    "\n",
    "t_new = LinRange(0.0, 195.5, 292)\n",
    "tspan_new = (0.0, 195.5)\n",
    "u0_new = [g1_0, g2_0]\n",
    "prob_new = ODEProblem(ODEmodel, u0_new, tspan_new, params)\n",
    "solution = solve(prob_new, Tsit5())\n",
    "\n",
    "plot(t_new, solution(t_new, idxs=1).u, label = \"G1 est\", dpi = 150, xlabel = \"time [hours]\", ylabel = \"# of cells\")\n",
    "plot!(t, G1_new, label = \"G1\", dpi = 150)\n",
    "plot!(t_new, solution(t_new, idxs=2).u, label = \"G2 est\", title = \"Lap. Trial 7 ODE\", legend=:topleft, dpi = 150)\n",
    "plot!(t, G2_new, label = \"G2\", dpi = 150)\n",
    "plot!(t_new, (solution(t_new, idxs=2).u + solution(t_new, idxs=1).u), label = \"total est\", dpi = 150)\n",
    "plot!(t, total_new, label = \"total\", dpi = 150)\n",
    "savefig(\"lap_7_ode_long.png\")"
   ]
  },
  {
   "cell_type": "code",
   "execution_count": null,
   "metadata": {},
   "outputs": [],
   "source": [
    "# param_holder_lap_ode[:, 1] = [\"alpha\", \"beta\", \"gamma1\", \"gamma2\"]\n",
    "# CSV.write(\"params_lap_ODE.csv\", DataFrame(param_holder_lap_ode))"
   ]
  },
  {
   "cell_type": "markdown",
   "metadata": {},
   "source": [
    "### Using Dogleg()/ LevenbergMarquardt() for optimization DDE"
   ]
  },
  {
   "cell_type": "code",
   "execution_count": 80,
   "metadata": {},
   "outputs": [
    {
     "data": {
      "text/plain": [
       "Results of Optimization Algorithm\n",
       " * Algorithm: LevenbergMarquardt\n",
       " * Minimizer: [0.006942353712338292,0.02488398290563484,33.71315239708512,20.54715328787159,5.2193788823527685,0.003886946469354751,0.010160722765551423]\n",
       " * Sum of squares at Minimum: 320.359878\n",
       " * Iterations: 95\n",
       " * Convergence: true\n",
       " * |x - x'| < 1.0e-08: false\n",
       " * |f(x) - f(x')| / |f(x)| < 1.0e-08: true\n",
       " * |g(x)| < 1.0e-08: false\n",
       " * Function Calls: 96\n",
       " * Gradient Calls: 88\n",
       " * Multiplication Calls: 285\n"
      ]
     },
     "execution_count": 80,
     "metadata": {},
     "output_type": "execute_result"
    }
   ],
   "source": [
    "# This model doesn't assume delay for dying\n",
    "function DDEmodel(du, u, h, p, t)\n",
    "    du[1] = -p[1]*(h(p, t-p[3])[1]) + 2*p[2]*(h(p, t-p[4])[2]) - p[6]*u[1]\n",
    "    du[2] = p[1]*(h(p, t-p[3])[1]) - p[2]*(h(p, t-p[4])[2]) - p[7]*u[2]\n",
    "end\n",
    "\n",
    "function DDEsolve(pp)\n",
    "    lags = [pp[3], pp[4]]\n",
    "    h(p, t) = pp[5]*ones(2)\n",
    "    t = LinRange(0.0, 95.5, 192)\n",
    "\n",
    "    tspan = (0.0, 95.5)\n",
    "    u0 = [g1_0, g2_0]\n",
    "    prob = DDEProblem(DDEmodel, u0, h, tspan, pp; constant_lags = lags)\n",
    "    solve(prob)\n",
    "end\n",
    "\n",
    "function resid(pp)\n",
    "    t = LinRange(0.0, 95.5, 192)\n",
    "    res = zeros(2, 192)\n",
    "    sol = DDEsolve(pp)\n",
    "    res[1, :] = sol(t, idxs=1).u - G1_new\n",
    "    res[2, :] = sol(t, idxs=2).u - G2_new\n",
    "    return res\n",
    "end\n",
    "\n",
    "# We could just find the best guess for the first trial and then just substitude the previous estimated parameter \n",
    "# to find the next trial as our initial guess (mostl of the time works well!)\n",
    "p  = [0.00959424, 0.0256688, 20.9196, 18.9652, 8.06589, 0.00227095, 0.0103966]\n",
    "\n",
    "# setting lowest delay for tau1 to be half an hour and for tau2 to be 3 hours.\n",
    "low = [0.0001, 0.0001, 0.45, 2.0, 0.0001, 0.0001, 0.0001]\n",
    "# results_dde = optimize(resid, p, Dogleg(), lower = low)\n",
    "results_dde = optimize(resid, p, LevenbergMarquardt(), lower = low)"
   ]
  },
  {
   "cell_type": "markdown",
   "metadata": {},
   "source": [
    "### Solve and Plot for Dogleg() optimization"
   ]
  },
  {
   "cell_type": "code",
   "execution_count": 82,
   "metadata": {},
   "outputs": [
    {
     "name": "stdout",
     "output_type": "stream",
     "text": [
      "[0.00694235, 0.024884, 33.7132, 20.5472, 5.21938, 0.00388695, 0.0101607]"
     ]
    }
   ],
   "source": [
    "params = results_dde.minimizer\n",
    "print(params)\n",
    "# param_holder_lap_dde = CSV.read(\"params_dox_DDE.csv\")\n",
    "# param_holder_dox_dde[1:7, 4] = params \n",
    "# CSV.write(\"params_dox_DDE.csv\",  DataFrame(param_holder_dox_dde))\n",
    "# [0.0657397, 0.0808217, 0.451049, 36.2012, 9.34548, 0.016664, 0.0193367]\n",
    "\n",
    "# param_holder_dox_dde[:, 1] = [\"alpha\", \"beta\", \"tau1\", \"tau2\", \"history\", \"gamma1\", \"gamma2\"]\n",
    "# CSV.write(\"params_lap_DDE.csv\",  DataFrame(param_holder_lap_dde))\n",
    "# a function to find the percent of G2/G1\n",
    "\n",
    "\n",
    "# params = [0.0484957, 0.0297392, 0.92571, 15.1207, 9.84743, 0.00174232, 0.000253351]\n",
    "# sol = DDEsolve(params)\n",
    "t = LinRange(0.0, 95.5, 192)\n",
    "\n",
    "# plot(t, sol(t, idxs=2).u, label = \"G1 est\", legend =:topleft)\n",
    "# plot!(t, G1_new, label = \"G1\")\n",
    "# plot!(t, sol(t, idxs=1).u, title = \"DOX Trial 2 DDE\", label = \"G2 est\")\n",
    "# plot!(t, G2_new, label = \"G2\")\n",
    "# plot!(t, (sol(t, idxs=2).u + sol(t, idxs=1).u), label = \"total est\")\n",
    "# plot!(t, total_new, label = \"total\")\n",
    "# savefig(\"DOX_2_DDE.png\")\n",
    "\n",
    "lags = [params[3], params[4]]\n",
    "t_new = LinRange(0.0, 195.5, 292)\n",
    "h(p, t_new) = params[5]*ones(2)\n",
    "tspan_new = (0.0, 195.5)\n",
    "u0_new = [g1_0, g2_0]\n",
    "prob_new = DDEProblem(DDEmodel, u0_new, h, tspan_new, params; constant_lags = lags)\n",
    "solution = solve(prob_new, MethodOfSteps(Tsit5()))\n",
    "\n",
    "plot(t_new, solution(t_new, idxs=1).u, label = \"G1 est\", dpi = 150, xlabel = \"time [hours]\", ylabel = \"# of cells\")\n",
    "plot!(t, G1_new, label = \"G1\", dpi = 150)\n",
    "plot!(t_new, solution(t_new, idxs=2).u, label = \"G2 est\", title = \"Lap. Trial 9 DDE\", legend=:topright, dpi = 150)\n",
    "plot!(t, G2_new, label = \"G2\", dpi = 150)\n",
    "plot!(t_new, (solution(t_new, idxs=2).u + solution(t_new, idxs=1).u), label = \"total est\", dpi = 150)\n",
    "plot!(t, total_new, label = \"total\", dpi = 150)\n",
    "# savefig(\"lap_9_dde_long.png\")"
   ]
  },
  {
   "cell_type": "code",
   "execution_count": null,
   "metadata": {},
   "outputs": [],
   "source": [
    "# param_holder_lap_dde[:, 1] = [\"alpha\", \"beta\", \"tau1\", \"tau2\", \"history\", \"gamma1\", \"gamma2\"]\n",
    "# CSV.write(\"params_lap_DDE.csv\",  DataFrame(param_holder_lap_dde))"
   ]
  },
  {
   "cell_type": "markdown",
   "metadata": {},
   "source": [
    "### To plot parameters against drug concentrations"
   ]
  },
  {
   "cell_type": "code",
   "execution_count": null,
   "metadata": {},
   "outputs": [],
   "source": [
    "using Plots, CSV;\n",
    "\n",
    "param_lap_dde = CSV.read(\".//figures//Lapatinib//dde//params_lap_DDE.csv\")\n",
    "param_gem_dde = CSV.read(\".//figures//Gem//dde//params_gem_DDE.csv\")\n",
    "param_dox_dde = CSV.read(\".//figures//Dox//dde//params_dox_DDE.csv\")\n",
    "param_taxol1_dde = CSV.read(\".//figures//taxol//dde//params_taxol1_DDE.csv\")\n",
    "lap = convert(Matrix, param_lap_dde[:,3:end])\n",
    "gem = convert(Matrix, param_gem_dde[:,3:end])\n",
    "dox = convert(Matrix, param_dox_dde[:,3:end])\n",
    "tax = convert(Matrix, param_taxol1_dde[:,3:end])\n",
    "\n",
    "function plot_param_conc(lap, gem, dox, tax, i, param)\n",
    "    p1 = plot(gem[8, :], gem[i, :], label = \"Gemcitabine\", title = param, xlabel = \"drug conc. [nM]\", ylabel = \"param\")\n",
    "    p2 = plot(lap[8, :], lap[i, :], label = \"Lapatinib\", xlabel = \"drug conc. [nM]\", ylabel = \"param\")\n",
    "    p3 = plot(dox[8, :], dox[i, :], label = \"Doxorubicin\", xlabel = \"drug conc. [nM]\", ylabel = \"param\")\n",
    "    p4 = plot(tax[8, :], tax[i, :], label = \"Paclitaxel\", xlabel = \"drug conc. [nM]\", ylabel = \"param\")\n",
    "    plot(p1, p2, p3, p4, dpi = 100)\n",
    "end\n",
    "\n",
    "plot_param_conc(lap, gem, dox, tax, 1 , \"alpha\")\n",
    "# savefig()"
   ]
  }
 ],
 "metadata": {
  "kernelspec": {
   "display_name": "Julia 1.1.1",
   "language": "julia",
   "name": "julia-1.1"
  },
  "language_info": {
   "file_extension": ".jl",
   "mimetype": "application/julia",
   "name": "julia",
   "version": "1.1.1"
  }
 },
 "nbformat": 4,
 "nbformat_minor": 2
}
