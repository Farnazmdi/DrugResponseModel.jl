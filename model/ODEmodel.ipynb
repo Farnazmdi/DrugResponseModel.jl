{
 "cells": [
  {
   "cell_type": "markdown",
   "metadata": {},
   "source": [
    "### Import data"
   ]
  },
  {
   "cell_type": "code",
   "execution_count": 1,
   "metadata": {},
   "outputs": [
    {
     "name": "stderr",
     "output_type": "stream",
     "text": [
      "┌ Info: Recompiling stale cache file /home/farnazm/.julia/compiled/v1.1/DifferentialEquations/UQdwS.ji for DifferentialEquations [0c46a032-eb83-5123-abaf-570d42b7fbaa]\n",
      "└ @ Base loading.jl:1184\n",
      "┌ Info: Recompiling stale cache file /home/farnazm/.julia/compiled/v1.1/Plots/ld3vC.ji for Plots [91a5bcdd-55d7-5caf-9e0b-520d859cae80]\n",
      "└ @ Base loading.jl:1184\n"
     ]
    }
   ],
   "source": [
    "import CSV\n",
    "using LeastSquaresOptim, DifferentialEquations, DelayDiffEq, DiffEqBase, Optim, Plots, Statistics, DataFrames\n",
    "\n",
    "function get_data(path_g2, path_total)\n",
    "    # Import data\n",
    "    data = CSV.read(path_g2)\n",
    "    total = CSV.read(path_total)\n",
    "\n",
    "    # delete the extra index column\n",
    "    deletecols!(data, 1:2)\n",
    "    deletecols!(total, 1:2)\n",
    "\n",
    "    # getting all the 8 trials\n",
    "    drug = data[:, 1:8]\n",
    "    pop = total[:, 1:8]\n",
    "\n",
    "    # rescaling the experimental data assuming we have 20 initial cells for each trial\n",
    "    g1 = zeros(size(drug, 1), 8)\n",
    "    g2 = zeros(size(drug, 1), 8)\n",
    "    g1_0 = zeros(8)\n",
    "    g2_0 = zeros(8)\n",
    "\n",
    "    init_cells = 20.0\n",
    "\n",
    "    # Unifying the dataset to be all in the unit of [# of cells] at each time point forall the trials for a drug\n",
    "    for i in 1:8\n",
    "        pop[:, i] = init_cells*pop[:, i]\n",
    "        g2[:, i] = 0.01*pop[:, i] .* drug[:, i]\n",
    "        g1[:, i] = pop[:, i] .- g2[:, i]\n",
    "        g2_0[i] = init_cells*(drug[1, i]/100.0)\n",
    "        g1_0[i] = init_cells*(1 - drug[1, i]/100.0)\n",
    "    end\n",
    "    return pop, g2, g1, g2_0, g1_0\n",
    "end\n",
    "\n",
    "pop, g2, g1, g2_0, g1_0 = get_data(\"..//data//gem.csv\", \"..//data//gem_pop.csv\");\n",
    "# i is the number of the column we are using from the data"
   ]
  },
  {
   "cell_type": "code",
   "execution_count": 2,
   "metadata": {},
   "outputs": [],
   "source": [
    "import CSV\n",
    "using LeastSquaresOptim, DifferentialEquations, DelayDiffEq, DiffEqBase, Optim, Plots, Statistics, DataFrames\n",
    "\n",
    "function get_data(path_g2, path_total)\n",
    "    # Import data\n",
    "    data = CSV.read(path_g2)\n",
    "    total = CSV.read(path_total)\n",
    "\n",
    "    # delete the extra index column\n",
    "    deletecols!(data, 1:2)\n",
    "    deletecols!(total, 1:2)\n",
    "\n",
    "    # getting all the 8 trials\n",
    "    drug = data[:, 1:8]\n",
    "    pop = total[:, 1:8]\n",
    "\n",
    "    # rescaling the experimental data assuming we have 20 initial cells for each trial\n",
    "    g1 = zeros(size(drug, 1), 8)\n",
    "    g2 = zeros(size(drug, 1), 8)\n",
    "    g1_0 = zeros(8)\n",
    "    g2_0 = zeros(8)\n",
    "\n",
    "    init_cells = 20.0\n",
    "\n",
    "    # Unifying the dataset to be all in the unit of [# of cells] at each time point forall the trials for a drug\n",
    "    for i in 1:8\n",
    "        pop[:, i] = init_cells*pop[:, i]\n",
    "        g2[:, i] = 0.01*pop[:, i] .* drug[:, i]\n",
    "        g1[:, i] = pop[:, i] .- g2[:, i]\n",
    "        g2_0[i] = init_cells*(drug[1, i]/100.0)\n",
    "        g1_0[i] = init_cells*(1 - drug[1, i]/100.0)\n",
    "    end\n",
    "    return pop, g2, g1, g2_0, g1_0\n",
    "end\n",
    "\n",
    "pop, g2, g1, g2_0, g1_0 = get_data(\"..//data//gem.csv\", \"..//data//gem_pop.csv\");\n",
    "# i is the number of the column we are using from the data"
   ]
  },
  {
   "cell_type": "markdown",
   "metadata": {},
   "source": [
    "### ODE plot"
   ]
  },
  {
   "cell_type": "code",
   "execution_count": null,
   "metadata": {},
   "outputs": [],
   "source": [
    "t = LinRange(0.0, 95.5, 192)\n",
    "params = result_ode.minimizer\n",
    "\n",
    "# param_holder_lap_ode = CSV.read(\"params_lap_ODE.csv\")\n",
    "# param_holder_lap_ode[:, 7] = params\n",
    "# CSV.write(\"params_lap_ODE.csv\", DataFrame(param_holder_lap_ode))\n",
    "# param_holder_lap_ode[:, 1] = [\"alpha\", \"beta\", \"gamma1\", \"gamma2\"]\n",
    "# CSV.write(\"params_lap_ODE.csv\", DataFrame(param_holder_lap_ode))\n",
    "\n",
    "############## Plot for 05.5 hours  ##############\n",
    "# sol = DDEsolve(params)\n",
    "# plot(t, sol(t, idxs=2).u, label = \"G1 est\", legend =:topleft)\n",
    "# plot!(t, G1_new, label = \"G1\")\n",
    "# plot!(t, sol(t, idxs=1).u, title = \"DOX Trial 2 DDE\", label = \"G2 est\")\n",
    "# plot!(t, G2_new, label = \"G2\")\n",
    "# plot!(t, (sol(t, idxs=2).u + sol(t, idxs=1).u), label = \"total est\")\n",
    "# plot!(t, total_new, label = \"total\")\n",
    "# savefig(\"DOX_2_DDE.png\")\n",
    "\n",
    "\n",
    "############### Plot for a long time simulation  ###############\n",
    "t_new = LinRange(0.0, 195.5, 292)\n",
    "tspan_new = (0.0, 195.5)\n",
    "u0_new = [g1_0, g2_0]\n",
    "prob_new = ODEProblem(ODEmodel, u0_new, tspan_new, params)\n",
    "solution = solve(prob_new, Tsit5())\n",
    "\n",
    "plot(t_new, solution(t_new, idxs=1).u, label = \"G1 est\", dpi = 150, xlabel = \"time [hours]\", ylabel = \"# of cells\")\n",
    "plot!(t, G1_new, label = \"G1\", dpi = 150)\n",
    "plot!(t_new, solution(t_new, idxs=2).u, label = \"G2 est\", title = \"Lap. Trial 7 ODE\", legend=:topleft, dpi = 150)\n",
    "plot!(t, G2_new, label = \"G2\", dpi = 150)\n",
    "plot!(t_new, (solution(t_new, idxs=2).u + solution(t_new, idxs=1).u), label = \"total est\", dpi = 150)\n",
    "plot!(t, total_new, label = \"total\", dpi = 150)\n",
    "# savefig(\"lap_7_ode_long.png\")"
   ]
  }
 ],
 "metadata": {
  "kernelspec": {
   "display_name": "Julia 1.1.1",
   "language": "julia",
   "name": "julia-1.1"
  },
  "language_info": {
   "name": ""
  }
 },
 "nbformat": 4,
 "nbformat_minor": 4
}
