{
 "cells": [
  {
   "cell_type": "markdown",
   "metadata": {},
   "source": [
    "### Import data"
   ]
  },
  {
   "cell_type": "code",
   "execution_count": null,
   "metadata": {},
   "outputs": [],
   "source": [
    "using Pkg\n",
    "Pkg.instantiate()\n",
    "using DrugResponseModel\n",
    "\n",
    "# import data from the path\n",
    "conc_l, pop, g2, g1, g2_0, g1_0 = setup_data(\"lapatinib\");# in which:\n",
    "# pop: population data\n",
    "# g1, g2: g1 and g2 data\n",
    "# initial: initial number of cells in g1 and in g2 at time 0"
   ]
  },
  {
   "cell_type": "markdown",
   "metadata": {},
   "source": [
    "### Estimate "
   ]
  },
  {
   "cell_type": "code",
   "execution_count": null,
   "metadata": {},
   "outputs": [],
   "source": [
    "# ODE optimization and estimation of the parameters\n",
    "params_ode = zeros(4, 8)\n",
    "for i in 1:8\n",
    "    params_ode[:, i] = ODEoptimizer(zeros(4), 2.0*ones(4), [1.0, 1.0, 0.0, 0.0], i, g1, g2, g1_0, g2_0)\n",
    "end"
   ]
  },
  {
   "cell_type": "code",
   "execution_count": null,
   "metadata": {},
   "outputs": [],
   "source": [
    "p = params_ode"
   ]
  },
  {
   "cell_type": "code",
   "execution_count": null,
   "metadata": {},
   "outputs": [],
   "source": [
    "using RecursiveArrayTools, DifferentialEquations\n",
    "\n",
    "t = range(0.0; stop = 95.5, length = 192)\n",
    "i=7\n",
    "prob, sol = predict(p, g1_0, g2_0, i, t)\n",
    "\n",
    "function remakeProblem(p, SaveAt)\n",
    "  _prob = remake(prob;u0=convert.(eltype(p),prob.u0),p=p)\n",
    "  solve(_prob,AutoTsit5(Rosenbrock23()), saveat=SaveAt;abstol=1e-6, reltol= 1e-6)\n",
    "end\n",
    "\n",
    "@model bayesODE(x, tp) = begin\n",
    "    alpha ~ Uniform(0.0, 2.0)\n",
    "    beta ~ Uniform(0.0, 2.0)\n",
    "    gamma1 ~ Uniform(0.0, 2.0)\n",
    "    gamma2 ~ Uniform(0.0, 2.0)\n",
    "\n",
    "    p = [alpha, beta, gamma1, gamma2]\n",
    "    sol_tmp = remakeProblem(p, tp)\n",
    "    N = length(tp)\n",
    "\n",
    "    fill_length = length(tp) - length(sol_tmp.u)\n",
    "\n",
    "    print(\"\\n\", fill_length)\n",
    "    for i in 1:fill_length\n",
    "      if eltype(sol_tmp.u) <: Number\n",
    "        push!(sol_tmp.u, Inf)\n",
    "      else\n",
    "        push!(sol_tmp.u, fill(Inf, size(sol_tmp[1])))\n",
    "      end\n",
    "    end\n",
    "\n",
    "    for i in 1:N\n",
    "      x[:,i] ~ MvNormal(sol_tmp.u[i], [0.5,0.5])\n",
    "    end\n",
    "end"
   ]
  },
  {
   "cell_type": "code",
   "execution_count": null,
   "metadata": {},
   "outputs": [],
   "source": [
    "# plotting the fitted curves\n",
    "ODEplot_all(params_ode, g1, g2, g1_0, g2_0, pop)"
   ]
  }
 ],
 "metadata": {
  "kernelspec": {
   "display_name": "Julia 1.3.0",
   "language": "julia",
   "name": "julia-1.3"
  },
  "language_info": {
   "file_extension": ".jl",
   "mimetype": "application/julia",
   "name": "julia",
   "version": "1.3.0"
  }
 },
 "nbformat": 4,
 "nbformat_minor": 4
}
