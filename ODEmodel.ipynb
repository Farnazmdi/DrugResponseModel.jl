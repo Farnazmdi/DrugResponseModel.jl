{
 "cells": [
  {
   "cell_type": "markdown",
   "metadata": {},
   "source": [
    "### Import data"
   ]
  },
  {
   "cell_type": "code",
   "execution_count": 10,
   "metadata": {},
   "outputs": [],
   "source": [
    "using Pkg\n",
    "Pkg.instantiate()\n",
    "using DrugResponseModel\n",
    "\n",
    "# import data from the path\n",
    "conc_l, pop, g2, g1, g2_0, g1_0 = setup_data(\"lapatinib\");# in which:\n",
    "# pop: population data\n",
    "# g1, g2: g1 and g2 data\n",
    "# initial: initial number of cells in g1 and in g2 at time 0"
   ]
  },
  {
   "cell_type": "markdown",
   "metadata": {},
   "source": [
    "### Estimate "
   ]
  },
  {
   "cell_type": "code",
   "execution_count": 2,
   "metadata": {},
   "outputs": [
    {
     "name": "stdout",
     "output_type": "stream",
     "text": [
      "271.6207365366957\n",
      "382.0181232554082\n",
      "611.0577455770123\n",
      "1477.4400586352356\n",
      "2854.240458062539\n",
      "2316.4312300068477\n",
      "652.3421356247128\n",
      "665.8307514768001\n"
     ]
    }
   ],
   "source": [
    "# ODE optimization and estimation of the parameters\n",
    "params_ode = zeros(4, 8)\n",
    "for i in 1:8\n",
    "    fit, params_ode[:, i] = ODEoptimizer([1.0, 1.0, 0.0, 0.0], i, g1, g2, g1_0, g2_0)\n",
    "    print(fit, \"\\n\")\n",
    "end"
   ]
  },
  {
   "cell_type": "markdown",
   "metadata": {},
   "source": [
    "### Turing"
   ]
  },
  {
   "cell_type": "code",
   "execution_count": 11,
   "metadata": {},
   "outputs": [
    {
     "name": "stdout",
     "output_type": "stream",
     "text": [
      "Array{Float64,1}[[13.286044850033335, 6.713955149966666], [6.005905015554943, 3.3113433473652103], [2.805698135494574, 1.5497893756846037], [1.3116441185353713, 0.724544522588782], [0.613193950869968, 0.33872503568764245], [0.28666836955954467, 0.15835406629641008], [0.13401760044251915, 0.07403060207466183], [0.06265325835710338, 0.03460932312506627], [0.02929045026497974, 0.016179887276120547], [0.01369330918664748, 0.0075641103865828905], [0.006401622597018234, 0.003536221910793274], [0.002992741553878479, 0.0016531743469375985], [0.0013991236350342968, 0.0007728683750306525], [0.0006541060806198383, 0.0003613246827996921], [0.00030579053125456054, 0.00016891704569389594], [0.00014295794307828962, 7.89691992889869e-5], [6.684300106116468e-5, 3.692371447465967e-5], [3.1259596324105926e-5, 1.7267632963357992e-5], [1.4602984356483792e-5, 8.066610117161498e-6], [6.8224078310799195e-6, 3.76872162962765e-6], [3.2054650539528746e-6, 1.7706090314408557e-6], [1.4687578067089577e-6, 8.333553982842263e-7], [7.220714253627228e-7, 3.801682183765614e-7], [2.559027768610467e-7, 2.4571257121179535e-7], [-9.09547176536864e-8, 2.925622450563578e-7], [3.6724666195244966e-7, -2.0761599824592886e-7], [-1.0039899019791833e-7, 1.3161551858246488e-7], [2.020896559459693e-7, -1.4776410004743892e-7], [-6.163164325994739e-9, 1.5503675965956042e-8], [-2.794902190603536e-7, 2.3972503739035274e-7], [8.461861531262393e-8, -6.886164954862452e-8], [2.2455344340330204e-7, -1.876719459585858e-7], [-2.4293719128897646e-7, 2.046706982157951e-7], [-1.0878627378480939e-8, 9.373543270267589e-9], [-7.476753266999264e-8, 6.294467932677034e-8], [-2.6142440949804955e-8, 2.2018387319004063e-8], [2.308380428490634e-8, -1.9380557671703458e-8], [-8.967078062535181e-10, 7.629340927279314e-10], [-5.2247265066183525e-9, 4.39480014496553e-9], [-1.6455390397087326e-10, 1.399722604147381e-10], [1.4037065848743255e-9, -1.17913485454417e-9], [6.327997738435644e-10, -5.316820951173986e-10], [7.976984099714527e-13, -5.938035318593574e-13], [-2.743650282763468e-10, 2.30614971683518e-10], [-3.096470563560999e-10, 2.6023859015481073e-10], [-1.0504838582928753e-10, 8.8277051882019e-11], [-2.058226018297664e-11, 1.7292169566947066e-11], [2.320964366474831e-11, -1.9509090024526222e-11], [5.007835083396524e-11, -4.208821799158826e-11], [6.002386132467413e-11, -5.044521433423905e-11], [5.304617513687498e-11, -4.4580079052478584e-11], [2.914529227056775e-11, -2.449281214630685e-11], [6.907567001632274e-12, -5.803938503784498e-12], [2.7344916845208005e-12, -2.2972560199391143e-12], [-7.533544416527023e-13, 6.336056769941528e-13], [-3.5559713768882375e-12, 2.9886465870153075e-12], [-5.6733591211857945e-12, 4.767866710124343e-12], [-7.1055176745453924e-12, 5.971266046321267e-12], [-7.852447036967011e-12, 6.598844595606072e-12], [-7.914147208450668e-12, 6.650602357978762e-12], [-7.290618188996352e-12, 6.126539333439341e-12], [-5.981859978604067e-12, 5.0266555219878026e-12], [-3.9878725772738116e-12, 3.3509509236241475e-12], [-1.308655985005586e-12, 1.099425538348378e-12], [-5.463565799240276e-13, 4.588689954509501e-13], [-3.8118088447701403e-13, 3.201221001191574e-13], [-2.2829881052280823e-13, 1.9170222091924243e-13], [-8.771035806140998e-14, 7.360935785120517e-14], [4.058447290718069e-14, -3.415648908495427e-14], [1.5658568238296322e-13, -1.3159531988923585e-13], [2.602932703659386e-13, -2.1870713456163971e-13], [3.5170723685610613e-13, -2.9549193310216593e-13], [4.3082758185346603e-13, -3.619497155108142e-13], [4.976543053580181e-13, -4.180804817875848e-13], [5.521874073697629e-13, -4.638842319324778e-13], [5.944268878886996e-13, -4.993609659454927e-13], [6.243727469148289e-13, -5.245106838266301e-13], [6.420249844481503e-13, -5.393333855758896e-13], [6.473836004886642e-13, -5.438290711932712e-13], [6.404485950363705e-13, -5.379977406787754e-13], [6.21219968091269e-13, -5.218393940324014e-13], [5.8969771965336e-13, -4.953540312541499e-13], [5.458818497226432e-13, -4.585416523440207e-13], [4.897723582991187e-13, -4.114022573020134e-13], [4.2136924538278634e-13, -3.5393584612812854e-13], [3.406725109736466e-13, -2.8614241882236595e-13], [2.476821550716992e-13, -2.080219753847255e-13], [1.4239817767694398e-13, -1.1957451581520728e-13], [2.6535825760089274e-14, -2.2241319068575802e-14], [7.689266407607422e-15, -6.427432518385379e-15], [-6.565856921344427e-15, 5.532519299955747e-15], [-1.6229544226766285e-14, 1.3638536386447596e-14], [-2.130179550865815e-14, 1.789061874109013e-14], [-2.1782610767020007e-14, 1.8288766363883384e-14], [-1.767199000185187e-14, 1.4832979254827333e-14], [-8.969933213153733e-15, 7.523257413921994e-15], [Inf, Inf], [Inf, Inf], [Inf, Inf], [Inf, Inf], [Inf, Inf], [Inf, Inf], [Inf, Inf], [Inf, Inf], [Inf, Inf], [Inf, Inf], [Inf, Inf], [Inf, Inf], [Inf, Inf], [Inf, Inf], [Inf, Inf], [Inf, Inf], [Inf, Inf], [Inf, Inf], [Inf, Inf], [Inf, Inf], [Inf, Inf], [Inf, Inf], [Inf, Inf], [Inf, Inf], [Inf, Inf], [Inf, Inf], [Inf, Inf], [Inf, Inf], [Inf, Inf], [Inf, Inf], [Inf, Inf], [Inf, Inf], [Inf, Inf], [Inf, Inf], [Inf, Inf], [Inf, Inf], [Inf, Inf], [Inf, Inf], [Inf, Inf], [Inf, Inf], [Inf, Inf], [Inf, Inf], [Inf, Inf], [Inf, Inf], [Inf, Inf], [Inf, Inf], [Inf, Inf], [Inf, Inf], [Inf, Inf], [Inf, Inf], [Inf, Inf], [Inf, Inf], [Inf, Inf], [Inf, Inf], [Inf, Inf], [Inf, Inf], [Inf, Inf], [Inf, Inf], [Inf, Inf], [Inf, Inf], [Inf, Inf], [Inf, Inf], [Inf, Inf], [Inf, Inf], [Inf, Inf], [Inf, Inf], [Inf, Inf], [Inf, Inf], [Inf, Inf], [Inf, Inf], [Inf, Inf], [Inf, Inf], [Inf, Inf], [Inf, Inf], [Inf, Inf], [Inf, Inf], [Inf, Inf], [Inf, Inf], [Inf, Inf], [Inf, Inf], [Inf, Inf], [Inf, Inf], [Inf, Inf], [Inf, Inf], [Inf, Inf], [Inf, Inf], [Inf, Inf], [Inf, Inf], [Inf, Inf], [Inf, Inf], [Inf, Inf], [Inf, Inf], [Inf, Inf], [Inf, Inf], [Inf, Inf], [Inf, Inf], [Inf, Inf]]"
     ]
    },
    {
     "ename": "BoundsError",
     "evalue": "BoundsError: attempt to access 2×192 Array{Float64,2} at index [Base.Slice(Base.OneTo(2)), 193]",
     "output_type": "error",
     "traceback": [
      "BoundsError: attempt to access 2×192 Array{Float64,2} at index [Base.Slice(Base.OneTo(2)), 193]",
      "",
      "Stacktrace:",
      " [1] throw_boundserror(::Array{Float64,2}, ::Tuple{Base.Slice{Base.OneTo{Int64}},Int64}) at ./abstractarray.jl:538",
      " [2] checkbounds at ./abstractarray.jl:503 [inlined]",
      " [3] _getindex at ./multidimensional.jl:669 [inlined]",
      " [4] getindex at ./abstractarray.jl:981 [inlined]",
      " [5] macro expansion at /home/farnazm/.julia/packages/Turing/xGrY5/src/core/compiler.jl:52 [inlined]",
      " [6] macro expansion at /home/farnazm/turing/DrugResponseModel.jl/src/ODEmodel.jl:68 [inlined]",
      " [7] (::DrugResponseModel.var\"##inner_function#408#18\")(::Turing.Core.RandomVariables.VarInfo{Turing.Core.RandomVariables.Metadata{Dict{Turing.Core.RandomVariables.VarName,Int64},Array{Distributions.Distribution,1},Array{Turing.Core.RandomVariables.VarName,1},Array{Real,1},Array{Set{Turing.Selector},1}},Real}, ::Turing.SampleFromUniform, ::Turing.Model{Tuple{:alpha,:beta,:gamma1,:gamma2},Tuple{:prob,:x,:tp},DrugResponseModel.var\"##inner_function#408#18\",NamedTuple{(:prob, :x, :tp),Tuple{DiffEqBase.ODEProblem{Array{Float64,1},Tuple{Float64,Float64},true,Array{Float64,2},DiffEqBase.ODEFunction{true,typeof(ODEmodel),LinearAlgebra.UniformScaling{Bool},Nothing,Nothing,Nothing,Nothing,Nothing,Nothing,Nothing,Nothing,Nothing},Base.Iterators.Pairs{Union{},Union{},Tuple{},NamedTuple{,Tuple{}}},DiffEqBase.StandardODEProblem},Array{Float64,2},Array{Int64,1}}},NamedTuple{(:prob, :x, :tp),Tuple{Symbol,Symbol,Symbol}}}) at /home/farnazm/.julia/packages/Turing/xGrY5/src/core/compiler.jl:438",
      " [8] #_#3 at /home/farnazm/.julia/packages/Turing/xGrY5/src/Turing.jl:67 [inlined]",
      " [9] Model at /home/farnazm/.julia/packages/Turing/xGrY5/src/Turing.jl:67 [inlined]",
      " [10] VarInfo at /home/farnazm/.julia/packages/Turing/xGrY5/src/core/RandomVariables.jl:183 [inlined]",
      " [11] Turing.Sampler(::Turing.Inference.NUTS{Turing.Core.ForwardDiffAD{40},,AdvancedHMC.Adaptation.DiagEuclideanMetric}, ::Turing.Model{Tuple{:alpha,:beta,:gamma1,:gamma2},Tuple{:prob,:x,:tp},DrugResponseModel.var\"##inner_function#408#18\",NamedTuple{(:prob, :x, :tp),Tuple{DiffEqBase.ODEProblem{Array{Float64,1},Tuple{Float64,Float64},true,Array{Float64,2},DiffEqBase.ODEFunction{true,typeof(ODEmodel),LinearAlgebra.UniformScaling{Bool},Nothing,Nothing,Nothing,Nothing,Nothing,Nothing,Nothing,Nothing,Nothing},Base.Iterators.Pairs{Union{},Union{},Tuple{},NamedTuple{,Tuple{}}},DiffEqBase.StandardODEProblem},Array{Float64,2},Array{Int64,1}}},NamedTuple{(:prob, :x, :tp),Tuple{Symbol,Symbol,Symbol}}}, ::Turing.Selector) at /home/farnazm/.julia/packages/Turing/xGrY5/src/inference/hmc.jl:305",
      " [12] #sample#2(::Nothing, ::Base.Iterators.Pairs{Union{},Union{},Tuple{},NamedTuple{,Tuple{}}}, ::typeof(StatsBase.sample), ::Turing.Model{Tuple{:alpha,:beta,:gamma1,:gamma2},Tuple{:prob,:x,:tp},DrugResponseModel.var\"##inner_function#408#18\",NamedTuple{(:prob, :x, :tp),Tuple{DiffEqBase.ODEProblem{Array{Float64,1},Tuple{Float64,Float64},true,Array{Float64,2},DiffEqBase.ODEFunction{true,typeof(ODEmodel),LinearAlgebra.UniformScaling{Bool},Nothing,Nothing,Nothing,Nothing,Nothing,Nothing,Nothing,Nothing,Nothing},Base.Iterators.Pairs{Union{},Union{},Tuple{},NamedTuple{,Tuple{}}},DiffEqBase.StandardODEProblem},Array{Float64,2},Array{Int64,1}}},NamedTuple{(:prob, :x, :tp),Tuple{Symbol,Symbol,Symbol}}}, ::Turing.Inference.NUTS{Turing.Core.ForwardDiffAD{40},,AdvancedHMC.Adaptation.DiagEuclideanMetric}, ::Int64) at /home/farnazm/.julia/packages/Turing/xGrY5/src/inference/hmc.jl:303",
      " [13] sample(::Turing.Model{Tuple{:alpha,:beta,:gamma1,:gamma2},Tuple{:prob,:x,:tp},DrugResponseModel.var\"##inner_function#408#18\",NamedTuple{(:prob, :x, :tp),Tuple{DiffEqBase.ODEProblem{Array{Float64,1},Tuple{Float64,Float64},true,Array{Float64,2},DiffEqBase.ODEFunction{true,typeof(ODEmodel),LinearAlgebra.UniformScaling{Bool},Nothing,Nothing,Nothing,Nothing,Nothing,Nothing,Nothing,Nothing,Nothing},Base.Iterators.Pairs{Union{},Union{},Tuple{},NamedTuple{,Tuple{}}},DiffEqBase.StandardODEProblem},Array{Float64,2},Array{Int64,1}}},NamedTuple{(:prob, :x, :tp),Tuple{Symbol,Symbol,Symbol}}}, ::Turing.Inference.NUTS{Turing.Core.ForwardDiffAD{40},,AdvancedHMC.Adaptation.DiagEuclideanMetric}, ::Int64) at /home/farnazm/.julia/packages/Turing/xGrY5/src/inference/Inference.jl:167",
      " [14] turing(::Array{Float64,2}, ::Array{Float64,1}, ::Array{Float64,1}, ::Int64) at /home/farnazm/turing/DrugResponseModel.jl/src/ODEmodel.jl:71",
      " [15] top-level scope at In[11]:2"
     ]
    }
   ],
   "source": [
    "i=5\n",
    "chain = turing(params_ode, g1_0, g2_0, i)"
   ]
  },
  {
   "cell_type": "code",
   "execution_count": 4,
   "metadata": {},
   "outputs": [],
   "source": [
    "# plot(sol)\n",
    "# scatter!(tp,newsol[1,:])\n",
    "# scatter!(tp,newsol[2,:])\n",
    "# using StatsPlots\n",
    "# plot(chain)"
   ]
  },
  {
   "cell_type": "code",
   "execution_count": 5,
   "metadata": {},
   "outputs": [],
   "source": [
    "# plotting the fitted curves\n",
    "# ODEplot_all(params_ode, g1, g2, g1_0, g2_0, pop)"
   ]
  },
  {
   "cell_type": "code",
   "execution_count": null,
   "metadata": {},
   "outputs": [],
   "source": []
  }
 ],
 "metadata": {
  "kernelspec": {
   "display_name": "Julia 1.3.0",
   "language": "julia",
   "name": "julia-1.3"
  },
  "language_info": {
   "file_extension": ".jl",
   "mimetype": "application/julia",
   "name": "julia",
   "version": "1.3.0"
  }
 },
 "nbformat": 4,
 "nbformat_minor": 4
}
